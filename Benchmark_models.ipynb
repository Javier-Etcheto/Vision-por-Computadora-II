{
 "cells": [
  {
   "cell_type": "markdown",
   "id": "c68b2fee",
   "metadata": {},
   "source": [
    "# Benchmark de modelos preentrenados para clasificación\n",
    "\n",
    "En este trabajo comparamos cuatro modelos preentrenados populares: **ResNet18** (nuestro baseline), **EfficientNet_B0**, **MobileNet_V3_Large** y **ConvNeXt_Tiny**.\n",
    "\n",
    "En el caso del **ResNet18**, descongelamos las últimas **tres capas** del backbone para que puedan ajustarse durante el entrenamiento. Para los otros tres modelos, solo descongelamos la **última capa**.\n",
    "\n",
    "Luego, reemplazamos esa capa descongelada por una identidad (`nn.Identity()`), lo que permite conectar un clasificador personalizado compuesto por capas lineales, activaciones y dropout que realiza la clasificación final.\n",
    "\n",
    "En resumen, el flujo es:\n",
    "\n",
    "**backbone (capas descongeladas entrenables) → capa identidad → clasificador personalizado**.\n",
    "\n",
    "Este método aprovecha el aprendizaje transferido del backbone mientras ajusta la salida para nuestras clases específicas.\n",
    "\n",
    "Para la optimización, consideramos tres valores diferentes de learning rate como principal hiperparámetro a ajustar, dado que los recursos y tiempo disponibles limitan la exploración de otros ajustes."
   ]
  },
  {
   "cell_type": "markdown",
   "id": "c284aaf1",
   "metadata": {},
   "source": [
    "----------------\n",
    "\n",
    "La elección de estas arquitecturas se basa en el trabajo *EfficientNet: Rethinking Model Scaling for Convolutional Neural Networks* ([Paper en arXiv](https://arxiv.org/pdf/1905.11946)), así como en el análisis presentado en este [artículo](https://research.google/blog/efficientnet-improving-accuracy-and-efficiency-through-automl-and-model-scaling/). En particular, se seleccionó el modelo **EfficientNet_B0** (utilizado como baseline en dicho estudio) por mostrar un desempeño superior al **ResNet32**, como se ilustra en la siguiente figura (Figura 1 del paper).\n",
    "\n",
    "Además, se incorporaron los modelos **MobileNet_V3_Large** y **ConvNeXt_Tiny** para ampliar la comparación. MobileNet_V3 también presenta buen desempeño usando *compound scaling* (método desarrollado para balancear profundidad, ancho y resolución de la red de manera eficiente), mientras que ConvNeXt_Tiny es una arquitectura moderna, eficiente y competitiva que no aparece en el estudio original.\n",
    "\n",
    "Dado el método desarrollado en el estudio de EfficientNet y basado en la mejora de performance lograda mediante *compound scaling* (ver el paper para más detalles), en etapas posteriores se planea extender el análisis a modelos **EfficientNet** más avanzados, como los **B1**, **B2**, y sucesivos.\n",
    "\n",
    "\n",
    "<img src=\"https://1.bp.blogspot.com/-oNSfIOzO8ko/XO3BtHnUx0I/AAAAAAAAEKk/rJ2tHovGkzsyZnCbwVad-Q3ZBnwQmCFsgCEwYBhgL/s1600/image3.png\" alt=\"Descripción\" height=\"400\">"
   ]
  },
  {
   "cell_type": "code",
   "execution_count": 13,
   "id": "58324afa",
   "metadata": {},
   "outputs": [],
   "source": [
    "# Recomendado por PyTorch Lightning para aprovechar Tensor Cores (por la arquitectura de mi GPU)\n",
    "import torch\n",
    "torch.set_float32_matmul_precision('medium')\n",
    "\n",
    "import shutil\n",
    "\n",
    "# Borrar checkpoints anteriores\n",
    "shutil.rmtree(\"checkpoints\", ignore_errors=True)\n",
    "\n",
    "# Borrar logs anteriores\n",
    "shutil.rmtree(\"lightning_logs\", ignore_errors=True)"
   ]
  },
  {
   "cell_type": "code",
   "execution_count": 14,
   "id": "fb8f5652",
   "metadata": {},
   "outputs": [],
   "source": [
    "import torch\n",
    "from torch.utils.data import TensorDataset, DataLoader\n",
    "\n",
    "# Cargar los tensores guardados\n",
    "X_train, y_train = torch.load(\"train_normalizado.pt\")\n",
    "X_val, y_val = torch.load(\"val_normalizado.pt\")\n",
    "X_test, y_test = torch.load(\"test_normalizado.pt\")\n",
    "\n",
    "# Crear datasets\n",
    "train_dataset = TensorDataset(X_train, y_train)\n",
    "val_dataset = TensorDataset(X_val, y_val)\n",
    "test_dataset = TensorDataset(X_test, y_test)\n",
    "\n",
    "# Crear loaders\n",
    "train_loader = DataLoader(train_dataset, batch_size=128, shuffle=True, num_workers=4, pin_memory=False)\n",
    "val_loader   = DataLoader(val_dataset, batch_size=512, shuffle=False, num_workers=4, pin_memory=False)\n",
    "test_loader  = DataLoader(test_dataset, batch_size=512, shuffle=False, num_workers=4, pin_memory=False)"
   ]
  },
  {
   "cell_type": "code",
   "execution_count": 10,
   "id": "8d0737bd",
   "metadata": {},
   "outputs": [],
   "source": [
    "import torch\n",
    "import torch.nn as nn\n",
    "from lightning import LightningModule, Trainer\n",
    "from lightning.pytorch.loggers import CSVLogger\n",
    "from torchvision import models\n",
    "import os\n",
    "from lightning.pytorch.callbacks import EarlyStopping\n",
    "\n",
    "def get_in_features(base_model):\n",
    "    base_model.eval()\n",
    "    with torch.no_grad():\n",
    "        dummy = torch.randn(1, 3, 224, 224).to(next(base_model.parameters()).device)\n",
    "        out = base_model(dummy)\n",
    "    return out.shape[1]\n",
    "\n",
    "class LitClassifier(LightningModule):\n",
    "    def __init__(self, base_model_fn, weights, freeze_layer_name, num_classes=3, lr=3e-5):\n",
    "        super().__init__()\n",
    "        self.save_hyperparameters()\n",
    "        self.training_outputs = []\n",
    "        self.validation_outputs = []\n",
    "\n",
    "        base_model = base_model_fn(weights=weights)\n",
    "        unfreeze = False\n",
    "        for name, param in base_model.named_parameters():\n",
    "            if freeze_layer_name in name:\n",
    "                unfreeze = True\n",
    "            param.requires_grad = unfreeze\n",
    "\n",
    "        if hasattr(base_model, \"fc\"):\n",
    "            base_model.fc = nn.Identity()\n",
    "            in_features = get_in_features(base_model)\n",
    "        elif hasattr(base_model, \"classifier\"):\n",
    "            base_model.classifier = nn.Identity()\n",
    "            in_features = get_in_features(base_model)\n",
    "\n",
    "        self.model = nn.Sequential(\n",
    "            base_model,\n",
    "            nn.Flatten(),\n",
    "            nn.Dropout(0.3),\n",
    "            nn.Linear(in_features, 256),\n",
    "            nn.ReLU(),\n",
    "            nn.Dropout(0.3),\n",
    "            nn.Linear(256, num_classes)\n",
    "        )\n",
    "\n",
    "        self.loss_fn = nn.CrossEntropyLoss()\n",
    "        self.lr = lr\n",
    "\n",
    "    def forward(self, x):\n",
    "        return self.model(x)\n",
    "\n",
    "    def training_step(self, batch, _):\n",
    "        x, y = batch\n",
    "        logits = self(x)\n",
    "        loss = self.loss_fn(logits, y)\n",
    "        self.training_outputs.append(loss.detach())\n",
    "        return loss  \n",
    "\n",
    "    def on_train_epoch_end(self):\n",
    "        avg_loss = torch.stack(self.training_outputs).mean()\n",
    "        self.log(\"train_loss\", avg_loss, prog_bar=True, on_step=False, on_epoch=True)\n",
    "        self.training_outputs.clear()\n",
    "\n",
    "    def validation_step(self, batch, _):\n",
    "        x, y = batch\n",
    "        logits = self(x)\n",
    "        loss = self.loss_fn(logits, y)\n",
    "        acc = (logits.argmax(1) == y).float().mean()\n",
    "        self.validation_outputs.append({\"val_loss\": loss.detach(), \"val_acc\": acc.detach()})\n",
    "        return None  \n",
    "\n",
    "    def on_validation_epoch_end(self):\n",
    "        avg_loss = torch.stack([x[\"val_loss\"] for x in self.validation_outputs]).mean()\n",
    "        avg_acc = torch.stack([x[\"val_acc\"] for x in self.validation_outputs]).mean()\n",
    "        self.log(\"val_loss\", avg_loss, prog_bar=True, on_step=False, on_epoch=True)\n",
    "        self.log(\"val_acc\", avg_acc, prog_bar=True, on_step=False, on_epoch=True)\n",
    "        self.validation_outputs.clear()\n",
    "    \n",
    "    def configure_optimizers(self):\n",
    "        return torch.optim.Adam(self.parameters(), lr=self.lr)\n",
    "\n",
    "\n",
    "def train_and_test_models(train_loader, val_loader, test_loader):\n",
    "    model_defs = [\n",
    "        (models.resnet18, models.ResNet18_Weights.DEFAULT, \"fc\"),\n",
    "        (models.efficientnet_b0, models.EfficientNet_B0_Weights.DEFAULT, \"features.8\"),\n",
    "        (models.mobilenet_v3_large, models.MobileNet_V3_Large_Weights.DEFAULT, \"features.8\"),\n",
    "        (models.convnext_tiny, models.ConvNeXt_Tiny_Weights.DEFAULT, \"features.7\"),\n",
    "    ]\n",
    "\n",
    "    learning_rates = [1e-4, 3e-5, 1e-5]\n",
    "\n",
    "    os.makedirs(\"checkpoints\", exist_ok=True)\n",
    "    results = {}\n",
    "    history = {}\n",
    "\n",
    "    for lr in learning_rates:\n",
    "        for fn, w, freeze_name in model_defs:\n",
    "            name = fn.__name__\n",
    "            print(f\"Entrenando {name} con lr={lr}\")\n",
    "            logger = CSVLogger(\"lightning_logs\", name=f\"{name}_lr{lr}\")\n",
    "            early_stop_callback = EarlyStopping(\n",
    "                monitor=\"val_loss\",\n",
    "                min_delta=0.001,\n",
    "                patience=5,\n",
    "                verbose=True,\n",
    "                mode=\"min\"\n",
    "            )\n",
    "                \n",
    "            model = LitClassifier(fn, w, freeze_name, num_classes=3, lr=lr)\n",
    "            trainer = Trainer(\n",
    "                max_epochs=30,\n",
    "                accelerator=\"gpu\" if torch.cuda.is_available() else \"cpu\",\n",
    "                logger=logger,\n",
    "                callbacks=[early_stop_callback]\n",
    "            )\n",
    "            trainer.fit(model, train_loader, val_loader)\n",
    "\n",
    "            checkpoint_path = f\"checkpoints/{name}_lr{lr}_final.ckpt\"\n",
    "            trainer.save_checkpoint(checkpoint_path)\n",
    "\n",
    "            metrics_df = logger.experiment.metrics\n",
    "            history[f\"{name}_lr{lr}\"] = metrics_df\n",
    "\n",
    "            model.eval()\n",
    "            all_preds, all_labels = [], []\n",
    "            for x, y in test_loader:\n",
    "                x = x.to(model.device)\n",
    "                with torch.no_grad():\n",
    "                    preds = model(x).argmax(1)\n",
    "                    all_preds.append(preds.cpu())\n",
    "                    all_labels.append(y)\n",
    "            results[f\"{name}_lr{lr}\"] = {\n",
    "                \"preds\": torch.cat(all_preds),\n",
    "                \"labels\": torch.cat(all_labels)\n",
    "            }\n",
    "\n",
    "    return results, history"
   ]
  },
  {
   "cell_type": "code",
   "execution_count": 8,
   "id": "4ef54d25",
   "metadata": {},
   "outputs": [
    {
     "name": "stderr",
     "output_type": "stream",
     "text": [
      "💡 Tip: For seamless cloud uploads and versioning, try installing [litmodels](https://pypi.org/project/litmodels/) to enable LitModelCheckpoint, which syncs automatically with the Lightning model registry.\n"
     ]
    },
    {
     "name": "stdout",
     "output_type": "stream",
     "text": [
      "Entrenando resnet18 con lr=0.0001\n"
     ]
    },
    {
     "name": "stderr",
     "output_type": "stream",
     "text": [
      "GPU available: True (cuda), used: True\n",
      "TPU available: False, using: 0 TPU cores\n",
      "HPU available: False, using: 0 HPUs\n",
      "LOCAL_RANK: 0 - CUDA_VISIBLE_DEVICES: [0]\n",
      "\n",
      "  | Name    | Type             | Params | Mode \n",
      "-----------------------------------------------------\n",
      "0 | model   | Sequential       | 11.3 M | train\n",
      "1 | loss_fn | CrossEntropyLoss | 0      | train\n",
      "-----------------------------------------------------\n",
      "132 K     Trainable params\n",
      "11.2 M    Non-trainable params\n",
      "11.3 M    Total params\n",
      "45.234    Total estimated model params size (MB)\n",
      "8         Modules in train mode\n",
      "68        Modules in eval mode\n"
     ]
    },
    {
     "name": "stdout",
     "output_type": "stream",
     "text": [
      "Epoch 0: 100%|██████████| 27/27 [00:11<00:00,  2.43it/s, v_num=0, val_loss=1.070, val_acc=0.420]"
     ]
    },
    {
     "name": "stderr",
     "output_type": "stream",
     "text": [
      "Metric val_loss improved. New best score: 1.070\n"
     ]
    },
    {
     "name": "stdout",
     "output_type": "stream",
     "text": [
      "Epoch 2: 100%|██████████| 27/27 [00:10<00:00,  2.69it/s, v_num=0, val_loss=1.050, val_acc=0.454, train_loss=1.010]"
     ]
    },
    {
     "name": "stderr",
     "output_type": "stream",
     "text": [
      "Metric val_loss improved by 0.016 >= min_delta = 0.001. New best score: 1.054\n"
     ]
    },
    {
     "name": "stdout",
     "output_type": "stream",
     "text": [
      "Epoch 3: 100%|██████████| 27/27 [00:09<00:00,  2.73it/s, v_num=0, val_loss=1.030, val_acc=0.473, train_loss=0.955]"
     ]
    },
    {
     "name": "stderr",
     "output_type": "stream",
     "text": [
      "Metric val_loss improved by 0.028 >= min_delta = 0.001. New best score: 1.025\n"
     ]
    },
    {
     "name": "stdout",
     "output_type": "stream",
     "text": [
      "Epoch 4: 100%|██████████| 27/27 [00:10<00:00,  2.63it/s, v_num=0, val_loss=0.990, val_acc=0.471, train_loss=0.903]"
     ]
    },
    {
     "name": "stderr",
     "output_type": "stream",
     "text": [
      "Metric val_loss improved by 0.036 >= min_delta = 0.001. New best score: 0.990\n"
     ]
    },
    {
     "name": "stdout",
     "output_type": "stream",
     "text": [
      "Epoch 5: 100%|██████████| 27/27 [00:10<00:00,  2.70it/s, v_num=0, val_loss=0.944, val_acc=0.536, train_loss=0.882]"
     ]
    },
    {
     "name": "stderr",
     "output_type": "stream",
     "text": [
      "Metric val_loss improved by 0.046 >= min_delta = 0.001. New best score: 0.944\n"
     ]
    },
    {
     "name": "stdout",
     "output_type": "stream",
     "text": [
      "Epoch 8: 100%|██████████| 27/27 [00:09<00:00,  2.75it/s, v_num=0, val_loss=0.927, val_acc=0.540, train_loss=0.851]"
     ]
    },
    {
     "name": "stderr",
     "output_type": "stream",
     "text": [
      "Metric val_loss improved by 0.017 >= min_delta = 0.001. New best score: 0.927\n"
     ]
    },
    {
     "name": "stdout",
     "output_type": "stream",
     "text": [
      "Epoch 10: 100%|██████████| 27/27 [00:09<00:00,  2.74it/s, v_num=0, val_loss=0.921, val_acc=0.539, train_loss=0.848]"
     ]
    },
    {
     "name": "stderr",
     "output_type": "stream",
     "text": [
      "Metric val_loss improved by 0.006 >= min_delta = 0.001. New best score: 0.921\n"
     ]
    },
    {
     "name": "stdout",
     "output_type": "stream",
     "text": [
      "Epoch 11: 100%|██████████| 27/27 [00:10<00:00,  2.46it/s, v_num=0, val_loss=0.913, val_acc=0.547, train_loss=0.829]"
     ]
    },
    {
     "name": "stderr",
     "output_type": "stream",
     "text": [
      "Metric val_loss improved by 0.007 >= min_delta = 0.001. New best score: 0.913\n"
     ]
    },
    {
     "name": "stdout",
     "output_type": "stream",
     "text": [
      "Epoch 14: 100%|██████████| 27/27 [00:11<00:00,  2.44it/s, v_num=0, val_loss=0.907, val_acc=0.550, train_loss=0.818]"
     ]
    },
    {
     "name": "stderr",
     "output_type": "stream",
     "text": [
      "Metric val_loss improved by 0.007 >= min_delta = 0.001. New best score: 0.907\n"
     ]
    },
    {
     "name": "stdout",
     "output_type": "stream",
     "text": [
      "Epoch 15: 100%|██████████| 27/27 [00:11<00:00,  2.44it/s, v_num=0, val_loss=0.899, val_acc=0.533, train_loss=0.794]"
     ]
    },
    {
     "name": "stderr",
     "output_type": "stream",
     "text": [
      "Metric val_loss improved by 0.007 >= min_delta = 0.001. New best score: 0.899\n"
     ]
    },
    {
     "name": "stdout",
     "output_type": "stream",
     "text": [
      "Epoch 16: 100%|██████████| 27/27 [00:10<00:00,  2.46it/s, v_num=0, val_loss=0.894, val_acc=0.558, train_loss=0.820]"
     ]
    },
    {
     "name": "stderr",
     "output_type": "stream",
     "text": [
      "Metric val_loss improved by 0.006 >= min_delta = 0.001. New best score: 0.894\n"
     ]
    },
    {
     "name": "stdout",
     "output_type": "stream",
     "text": [
      "Epoch 18: 100%|██████████| 27/27 [00:11<00:00,  2.43it/s, v_num=0, val_loss=0.855, val_acc=0.592, train_loss=0.818]"
     ]
    },
    {
     "name": "stderr",
     "output_type": "stream",
     "text": [
      "Metric val_loss improved by 0.039 >= min_delta = 0.001. New best score: 0.855\n"
     ]
    },
    {
     "name": "stdout",
     "output_type": "stream",
     "text": [
      "Epoch 23: 100%|██████████| 27/27 [00:11<00:00,  2.44it/s, v_num=0, val_loss=0.858, val_acc=0.566, train_loss=0.772]"
     ]
    },
    {
     "name": "stderr",
     "output_type": "stream",
     "text": [
      "Monitored metric val_loss did not improve in the last 5 records. Best score: 0.855. Signaling Trainer to stop.\n"
     ]
    },
    {
     "name": "stdout",
     "output_type": "stream",
     "text": [
      "Epoch 23: 100%|██████████| 27/27 [00:11<00:00,  2.39it/s, v_num=0, val_loss=0.858, val_acc=0.566, train_loss=0.772]\n",
      "Entrenando efficientnet_b0 con lr=0.0001\n"
     ]
    },
    {
     "name": "stderr",
     "output_type": "stream",
     "text": [
      "💡 Tip: For seamless cloud uploads and versioning, try installing [litmodels](https://pypi.org/project/litmodels/) to enable LitModelCheckpoint, which syncs automatically with the Lightning model registry.\n",
      "GPU available: True (cuda), used: True\n",
      "TPU available: False, using: 0 TPU cores\n",
      "HPU available: False, using: 0 HPUs\n",
      "LOCAL_RANK: 0 - CUDA_VISIBLE_DEVICES: [0]\n",
      "\n",
      "  | Name    | Type             | Params | Mode \n",
      "-----------------------------------------------------\n",
      "0 | model   | Sequential       | 4.3 M  | train\n",
      "1 | loss_fn | CrossEntropyLoss | 0      | train\n",
      "-----------------------------------------------------\n",
      "740 K     Trainable params\n",
      "3.6 M     Non-trainable params\n",
      "4.3 M     Total params\n",
      "17.345    Total estimated model params size (MB)\n",
      "8         Modules in train mode\n",
      "335       Modules in eval mode\n"
     ]
    },
    {
     "name": "stdout",
     "output_type": "stream",
     "text": [
      "Epoch 0: 100%|██████████| 27/27 [00:18<00:00,  1.49it/s, v_num=0, val_loss=1.010, val_acc=0.550]"
     ]
    },
    {
     "name": "stderr",
     "output_type": "stream",
     "text": [
      "Metric val_loss improved. New best score: 1.006\n"
     ]
    },
    {
     "name": "stdout",
     "output_type": "stream",
     "text": [
      "Epoch 1: 100%|██████████| 27/27 [00:16<00:00,  1.67it/s, v_num=0, val_loss=0.958, val_acc=0.509, train_loss=1.000]"
     ]
    },
    {
     "name": "stderr",
     "output_type": "stream",
     "text": [
      "Metric val_loss improved by 0.049 >= min_delta = 0.001. New best score: 0.958\n"
     ]
    },
    {
     "name": "stdout",
     "output_type": "stream",
     "text": [
      "Epoch 2: 100%|██████████| 27/27 [00:15<00:00,  1.73it/s, v_num=0, val_loss=0.869, val_acc=0.593, train_loss=0.856]"
     ]
    },
    {
     "name": "stderr",
     "output_type": "stream",
     "text": [
      "Metric val_loss improved by 0.088 >= min_delta = 0.001. New best score: 0.869\n"
     ]
    },
    {
     "name": "stdout",
     "output_type": "stream",
     "text": [
      "Epoch 4: 100%|██████████| 27/27 [00:16<00:00,  1.61it/s, v_num=0, val_loss=0.852, val_acc=0.595, train_loss=0.758]"
     ]
    },
    {
     "name": "stderr",
     "output_type": "stream",
     "text": [
      "Metric val_loss improved by 0.018 >= min_delta = 0.001. New best score: 0.852\n"
     ]
    },
    {
     "name": "stdout",
     "output_type": "stream",
     "text": [
      "Epoch 5: 100%|██████████| 27/27 [00:15<00:00,  1.72it/s, v_num=0, val_loss=0.816, val_acc=0.621, train_loss=0.714]"
     ]
    },
    {
     "name": "stderr",
     "output_type": "stream",
     "text": [
      "Metric val_loss improved by 0.036 >= min_delta = 0.001. New best score: 0.816\n"
     ]
    },
    {
     "name": "stdout",
     "output_type": "stream",
     "text": [
      "Epoch 6: 100%|██████████| 27/27 [00:15<00:00,  1.74it/s, v_num=0, val_loss=0.796, val_acc=0.648, train_loss=0.686]"
     ]
    },
    {
     "name": "stderr",
     "output_type": "stream",
     "text": [
      "Metric val_loss improved by 0.020 >= min_delta = 0.001. New best score: 0.796\n"
     ]
    },
    {
     "name": "stdout",
     "output_type": "stream",
     "text": [
      "Epoch 7: 100%|██████████| 27/27 [00:16<00:00,  1.59it/s, v_num=0, val_loss=0.771, val_acc=0.669, train_loss=0.668]"
     ]
    },
    {
     "name": "stderr",
     "output_type": "stream",
     "text": [
      "Metric val_loss improved by 0.025 >= min_delta = 0.001. New best score: 0.771\n"
     ]
    },
    {
     "name": "stdout",
     "output_type": "stream",
     "text": [
      "Epoch 10: 100%|██████████| 27/27 [00:14<00:00,  1.83it/s, v_num=0, val_loss=0.696, val_acc=0.713, train_loss=0.644]"
     ]
    },
    {
     "name": "stderr",
     "output_type": "stream",
     "text": [
      "Metric val_loss improved by 0.075 >= min_delta = 0.001. New best score: 0.696\n"
     ]
    },
    {
     "name": "stdout",
     "output_type": "stream",
     "text": [
      "Epoch 14: 100%|██████████| 27/27 [00:14<00:00,  1.81it/s, v_num=0, val_loss=0.688, val_acc=0.705, train_loss=0.608]"
     ]
    },
    {
     "name": "stderr",
     "output_type": "stream",
     "text": [
      "Metric val_loss improved by 0.008 >= min_delta = 0.001. New best score: 0.688\n"
     ]
    },
    {
     "name": "stdout",
     "output_type": "stream",
     "text": [
      "Epoch 17: 100%|██████████| 27/27 [00:14<00:00,  1.81it/s, v_num=0, val_loss=0.674, val_acc=0.729, train_loss=0.568]"
     ]
    },
    {
     "name": "stderr",
     "output_type": "stream",
     "text": [
      "Metric val_loss improved by 0.014 >= min_delta = 0.001. New best score: 0.674\n"
     ]
    },
    {
     "name": "stdout",
     "output_type": "stream",
     "text": [
      "Epoch 18: 100%|██████████| 27/27 [00:14<00:00,  1.81it/s, v_num=0, val_loss=0.659, val_acc=0.742, train_loss=0.550]"
     ]
    },
    {
     "name": "stderr",
     "output_type": "stream",
     "text": [
      "Metric val_loss improved by 0.015 >= min_delta = 0.001. New best score: 0.659\n"
     ]
    },
    {
     "name": "stdout",
     "output_type": "stream",
     "text": [
      "Epoch 19: 100%|██████████| 27/27 [00:14<00:00,  1.83it/s, v_num=0, val_loss=0.650, val_acc=0.748, train_loss=0.541]"
     ]
    },
    {
     "name": "stderr",
     "output_type": "stream",
     "text": [
      "Metric val_loss improved by 0.008 >= min_delta = 0.001. New best score: 0.650\n"
     ]
    },
    {
     "name": "stdout",
     "output_type": "stream",
     "text": [
      "Epoch 23: 100%|██████████| 27/27 [00:15<00:00,  1.78it/s, v_num=0, val_loss=0.636, val_acc=0.764, train_loss=0.508]"
     ]
    },
    {
     "name": "stderr",
     "output_type": "stream",
     "text": [
      "Metric val_loss improved by 0.014 >= min_delta = 0.001. New best score: 0.636\n"
     ]
    },
    {
     "name": "stdout",
     "output_type": "stream",
     "text": [
      "Epoch 25: 100%|██████████| 27/27 [00:14<00:00,  1.82it/s, v_num=0, val_loss=0.625, val_acc=0.758, train_loss=0.509]"
     ]
    },
    {
     "name": "stderr",
     "output_type": "stream",
     "text": [
      "Metric val_loss improved by 0.011 >= min_delta = 0.001. New best score: 0.625\n"
     ]
    },
    {
     "name": "stdout",
     "output_type": "stream",
     "text": [
      "Epoch 26: 100%|██████████| 27/27 [00:14<00:00,  1.81it/s, v_num=0, val_loss=0.623, val_acc=0.761, train_loss=0.511]"
     ]
    },
    {
     "name": "stderr",
     "output_type": "stream",
     "text": [
      "Metric val_loss improved by 0.002 >= min_delta = 0.001. New best score: 0.623\n"
     ]
    },
    {
     "name": "stdout",
     "output_type": "stream",
     "text": [
      "Epoch 29: 100%|██████████| 27/27 [00:14<00:00,  1.81it/s, v_num=0, val_loss=0.633, val_acc=0.765, train_loss=0.471]"
     ]
    },
    {
     "name": "stderr",
     "output_type": "stream",
     "text": [
      "`Trainer.fit` stopped: `max_epochs=30` reached.\n"
     ]
    },
    {
     "name": "stdout",
     "output_type": "stream",
     "text": [
      "Epoch 29: 100%|██████████| 27/27 [00:15<00:00,  1.80it/s, v_num=0, val_loss=0.633, val_acc=0.765, train_loss=0.471]\n"
     ]
    },
    {
     "name": "stderr",
     "output_type": "stream",
     "text": [
      "💡 Tip: For seamless cloud uploads and versioning, try installing [litmodels](https://pypi.org/project/litmodels/) to enable LitModelCheckpoint, which syncs automatically with the Lightning model registry.\n"
     ]
    },
    {
     "name": "stdout",
     "output_type": "stream",
     "text": [
      "Entrenando mobilenet_v3_large con lr=0.0001\n"
     ]
    },
    {
     "name": "stderr",
     "output_type": "stream",
     "text": [
      "GPU available: True (cuda), used: True\n",
      "TPU available: False, using: 0 TPU cores\n",
      "HPU available: False, using: 0 HPUs\n",
      "LOCAL_RANK: 0 - CUDA_VISIBLE_DEVICES: [0]\n",
      "\n",
      "  | Name    | Type             | Params | Mode \n",
      "-----------------------------------------------------\n",
      "0 | model   | Sequential       | 3.2 M  | train\n",
      "1 | loss_fn | CrossEntropyLoss | 0      | train\n",
      "-----------------------------------------------------\n",
      "3.1 M     Trainable params\n",
      "93.2 K    Non-trainable params\n",
      "3.2 M     Total params\n",
      "12.875    Total estimated model params size (MB)\n",
      "8         Modules in train mode\n",
      "251       Modules in eval mode\n"
     ]
    },
    {
     "name": "stdout",
     "output_type": "stream",
     "text": [
      "Epoch 0: 100%|██████████| 27/27 [00:12<00:00,  2.13it/s, v_num=0, val_loss=0.844, val_acc=0.611]"
     ]
    },
    {
     "name": "stderr",
     "output_type": "stream",
     "text": [
      "Metric val_loss improved. New best score: 0.844\n"
     ]
    },
    {
     "name": "stdout",
     "output_type": "stream",
     "text": [
      "Epoch 1: 100%|██████████| 27/27 [00:12<00:00,  2.11it/s, v_num=0, val_loss=0.790, val_acc=0.644, train_loss=0.932]"
     ]
    },
    {
     "name": "stderr",
     "output_type": "stream",
     "text": [
      "Metric val_loss improved by 0.054 >= min_delta = 0.001. New best score: 0.790\n"
     ]
    },
    {
     "name": "stdout",
     "output_type": "stream",
     "text": [
      "Epoch 2: 100%|██████████| 27/27 [00:13<00:00,  2.00it/s, v_num=0, val_loss=0.724, val_acc=0.673, train_loss=0.706]"
     ]
    },
    {
     "name": "stderr",
     "output_type": "stream",
     "text": [
      "Metric val_loss improved by 0.066 >= min_delta = 0.001. New best score: 0.724\n"
     ]
    },
    {
     "name": "stdout",
     "output_type": "stream",
     "text": [
      "Epoch 4: 100%|██████████| 27/27 [00:13<00:00,  2.05it/s, v_num=0, val_loss=0.640, val_acc=0.763, train_loss=0.624]"
     ]
    },
    {
     "name": "stderr",
     "output_type": "stream",
     "text": [
      "Metric val_loss improved by 0.084 >= min_delta = 0.001. New best score: 0.640\n"
     ]
    },
    {
     "name": "stdout",
     "output_type": "stream",
     "text": [
      "Epoch 7: 100%|██████████| 27/27 [00:13<00:00,  1.99it/s, v_num=0, val_loss=0.637, val_acc=0.763, train_loss=0.557]"
     ]
    },
    {
     "name": "stderr",
     "output_type": "stream",
     "text": [
      "Metric val_loss improved by 0.003 >= min_delta = 0.001. New best score: 0.637\n"
     ]
    },
    {
     "name": "stdout",
     "output_type": "stream",
     "text": [
      "Epoch 12: 100%|██████████| 27/27 [00:13<00:00,  2.01it/s, v_num=0, val_loss=1.200, val_acc=0.652, train_loss=0.300]"
     ]
    },
    {
     "name": "stderr",
     "output_type": "stream",
     "text": [
      "Monitored metric val_loss did not improve in the last 5 records. Best score: 0.637. Signaling Trainer to stop.\n"
     ]
    },
    {
     "name": "stdout",
     "output_type": "stream",
     "text": [
      "Epoch 12: 100%|██████████| 27/27 [00:13<00:00,  1.98it/s, v_num=0, val_loss=1.200, val_acc=0.652, train_loss=0.300]\n",
      "Entrenando convnext_tiny con lr=0.0001\n"
     ]
    },
    {
     "name": "stderr",
     "output_type": "stream",
     "text": [
      "💡 Tip: For seamless cloud uploads and versioning, try installing [litmodels](https://pypi.org/project/litmodels/) to enable LitModelCheckpoint, which syncs automatically with the Lightning model registry.\n",
      "GPU available: True (cuda), used: True\n",
      "TPU available: False, using: 0 TPU cores\n",
      "HPU available: False, using: 0 HPUs\n",
      "LOCAL_RANK: 0 - CUDA_VISIBLE_DEVICES: [0]\n",
      "\n",
      "  | Name    | Type             | Params | Mode \n",
      "-----------------------------------------------------\n",
      "0 | model   | Sequential       | 28.0 M | train\n",
      "1 | loss_fn | CrossEntropyLoss | 0      | train\n",
      "-----------------------------------------------------\n",
      "14.5 M    Trainable params\n",
      "13.5 M    Non-trainable params\n",
      "28.0 M    Total params\n",
      "112.065   Total estimated model params size (MB)\n",
      "8         Modules in train mode\n",
      "200       Modules in eval mode\n"
     ]
    },
    {
     "name": "stdout",
     "output_type": "stream",
     "text": [
      "Epoch 0: 100%|██████████| 27/27 [00:27<00:00,  0.97it/s, v_num=0, val_loss=0.921, val_acc=0.540]"
     ]
    },
    {
     "name": "stderr",
     "output_type": "stream",
     "text": [
      "Metric val_loss improved. New best score: 0.921\n"
     ]
    },
    {
     "name": "stdout",
     "output_type": "stream",
     "text": [
      "Epoch 1: 100%|██████████| 27/27 [00:26<00:00,  1.03it/s, v_num=0, val_loss=0.725, val_acc=0.733, train_loss=0.985]"
     ]
    },
    {
     "name": "stderr",
     "output_type": "stream",
     "text": [
      "Metric val_loss improved by 0.196 >= min_delta = 0.001. New best score: 0.725\n"
     ]
    },
    {
     "name": "stdout",
     "output_type": "stream",
     "text": [
      "Epoch 2: 100%|██████████| 27/27 [00:25<00:00,  1.04it/s, v_num=0, val_loss=0.713, val_acc=0.668, train_loss=0.722]"
     ]
    },
    {
     "name": "stderr",
     "output_type": "stream",
     "text": [
      "Metric val_loss improved by 0.011 >= min_delta = 0.001. New best score: 0.713\n"
     ]
    },
    {
     "name": "stdout",
     "output_type": "stream",
     "text": [
      "Epoch 3: 100%|██████████| 27/27 [00:25<00:00,  1.04it/s, v_num=0, val_loss=0.694, val_acc=0.711, train_loss=0.663]"
     ]
    },
    {
     "name": "stderr",
     "output_type": "stream",
     "text": [
      "Metric val_loss improved by 0.019 >= min_delta = 0.001. New best score: 0.694\n"
     ]
    },
    {
     "name": "stdout",
     "output_type": "stream",
     "text": [
      "Epoch 4: 100%|██████████| 27/27 [00:25<00:00,  1.04it/s, v_num=0, val_loss=0.622, val_acc=0.782, train_loss=0.567]"
     ]
    },
    {
     "name": "stderr",
     "output_type": "stream",
     "text": [
      "Metric val_loss improved by 0.072 >= min_delta = 0.001. New best score: 0.622\n"
     ]
    },
    {
     "name": "stdout",
     "output_type": "stream",
     "text": [
      "Epoch 9: 100%|██████████| 27/27 [00:25<00:00,  1.04it/s, v_num=0, val_loss=1.280, val_acc=0.701, train_loss=0.232]"
     ]
    },
    {
     "name": "stderr",
     "output_type": "stream",
     "text": [
      "Monitored metric val_loss did not improve in the last 5 records. Best score: 0.622. Signaling Trainer to stop.\n"
     ]
    },
    {
     "name": "stdout",
     "output_type": "stream",
     "text": [
      "Epoch 9: 100%|██████████| 27/27 [00:26<00:00,  1.02it/s, v_num=0, val_loss=1.280, val_acc=0.701, train_loss=0.232]\n",
      "Entrenando resnet18 con lr=3e-05\n"
     ]
    },
    {
     "name": "stderr",
     "output_type": "stream",
     "text": [
      "💡 Tip: For seamless cloud uploads and versioning, try installing [litmodels](https://pypi.org/project/litmodels/) to enable LitModelCheckpoint, which syncs automatically with the Lightning model registry.\n",
      "GPU available: True (cuda), used: True\n",
      "TPU available: False, using: 0 TPU cores\n",
      "HPU available: False, using: 0 HPUs\n",
      "LOCAL_RANK: 0 - CUDA_VISIBLE_DEVICES: [0]\n",
      "\n",
      "  | Name    | Type             | Params | Mode \n",
      "-----------------------------------------------------\n",
      "0 | model   | Sequential       | 11.3 M | train\n",
      "1 | loss_fn | CrossEntropyLoss | 0      | train\n",
      "-----------------------------------------------------\n",
      "132 K     Trainable params\n",
      "11.2 M    Non-trainable params\n",
      "11.3 M    Total params\n",
      "45.234    Total estimated model params size (MB)\n",
      "8         Modules in train mode\n",
      "68        Modules in eval mode\n"
     ]
    },
    {
     "name": "stdout",
     "output_type": "stream",
     "text": [
      "Epoch 0: 100%|██████████| 27/27 [00:11<00:00,  2.41it/s, v_num=0, val_loss=1.110, val_acc=0.289]"
     ]
    },
    {
     "name": "stderr",
     "output_type": "stream",
     "text": [
      "Metric val_loss improved. New best score: 1.112\n"
     ]
    },
    {
     "name": "stdout",
     "output_type": "stream",
     "text": [
      "Epoch 1: 100%|██████████| 27/27 [00:10<00:00,  2.49it/s, v_num=0, val_loss=1.100, val_acc=0.328, train_loss=1.130]"
     ]
    },
    {
     "name": "stderr",
     "output_type": "stream",
     "text": [
      "Metric val_loss improved by 0.011 >= min_delta = 0.001. New best score: 1.101\n"
     ]
    },
    {
     "name": "stdout",
     "output_type": "stream",
     "text": [
      "Epoch 2: 100%|██████████| 27/27 [00:10<00:00,  2.46it/s, v_num=0, val_loss=1.090, val_acc=0.375, train_loss=1.090]"
     ]
    },
    {
     "name": "stderr",
     "output_type": "stream",
     "text": [
      "Metric val_loss improved by 0.009 >= min_delta = 0.001. New best score: 1.092\n"
     ]
    },
    {
     "name": "stdout",
     "output_type": "stream",
     "text": [
      "Epoch 3: 100%|██████████| 27/27 [00:11<00:00,  2.44it/s, v_num=0, val_loss=1.070, val_acc=0.413, train_loss=1.070]"
     ]
    },
    {
     "name": "stderr",
     "output_type": "stream",
     "text": [
      "Metric val_loss improved by 0.019 >= min_delta = 0.001. New best score: 1.072\n"
     ]
    },
    {
     "name": "stdout",
     "output_type": "stream",
     "text": [
      "Epoch 6: 100%|██████████| 27/27 [00:11<00:00,  2.45it/s, v_num=0, val_loss=1.070, val_acc=0.421, train_loss=1.010]"
     ]
    },
    {
     "name": "stderr",
     "output_type": "stream",
     "text": [
      "Metric val_loss improved by 0.001 >= min_delta = 0.001. New best score: 1.071\n"
     ]
    },
    {
     "name": "stdout",
     "output_type": "stream",
     "text": [
      "Epoch 7: 100%|██████████| 27/27 [00:11<00:00,  2.41it/s, v_num=0, val_loss=1.060, val_acc=0.445, train_loss=0.997]"
     ]
    },
    {
     "name": "stderr",
     "output_type": "stream",
     "text": [
      "Metric val_loss improved by 0.015 >= min_delta = 0.001. New best score: 1.056\n"
     ]
    },
    {
     "name": "stdout",
     "output_type": "stream",
     "text": [
      "Epoch 8: 100%|██████████| 27/27 [00:10<00:00,  2.47it/s, v_num=0, val_loss=1.050, val_acc=0.469, train_loss=0.980]"
     ]
    },
    {
     "name": "stderr",
     "output_type": "stream",
     "text": [
      "Metric val_loss improved by 0.005 >= min_delta = 0.001. New best score: 1.051\n"
     ]
    },
    {
     "name": "stdout",
     "output_type": "stream",
     "text": [
      "Epoch 9: 100%|██████████| 27/27 [00:11<00:00,  2.41it/s, v_num=0, val_loss=1.040, val_acc=0.475, train_loss=0.968]"
     ]
    },
    {
     "name": "stderr",
     "output_type": "stream",
     "text": [
      "Metric val_loss improved by 0.011 >= min_delta = 0.001. New best score: 1.040\n"
     ]
    },
    {
     "name": "stdout",
     "output_type": "stream",
     "text": [
      "Epoch 11: 100%|██████████| 27/27 [00:11<00:00,  2.44it/s, v_num=0, val_loss=1.030, val_acc=0.480, train_loss=0.975]"
     ]
    },
    {
     "name": "stderr",
     "output_type": "stream",
     "text": [
      "Metric val_loss improved by 0.009 >= min_delta = 0.001. New best score: 1.031\n"
     ]
    },
    {
     "name": "stdout",
     "output_type": "stream",
     "text": [
      "Epoch 13: 100%|██████████| 27/27 [00:11<00:00,  2.42it/s, v_num=0, val_loss=1.020, val_acc=0.471, train_loss=0.927]"
     ]
    },
    {
     "name": "stderr",
     "output_type": "stream",
     "text": [
      "Metric val_loss improved by 0.007 >= min_delta = 0.001. New best score: 1.023\n"
     ]
    },
    {
     "name": "stdout",
     "output_type": "stream",
     "text": [
      "Epoch 14: 100%|██████████| 27/27 [00:11<00:00,  2.42it/s, v_num=0, val_loss=0.999, val_acc=0.485, train_loss=0.947]"
     ]
    },
    {
     "name": "stderr",
     "output_type": "stream",
     "text": [
      "Metric val_loss improved by 0.024 >= min_delta = 0.001. New best score: 0.999\n"
     ]
    },
    {
     "name": "stdout",
     "output_type": "stream",
     "text": [
      "Epoch 15: 100%|██████████| 27/27 [00:11<00:00,  2.44it/s, v_num=0, val_loss=0.995, val_acc=0.473, train_loss=0.926]"
     ]
    },
    {
     "name": "stderr",
     "output_type": "stream",
     "text": [
      "Metric val_loss improved by 0.005 >= min_delta = 0.001. New best score: 0.995\n"
     ]
    },
    {
     "name": "stdout",
     "output_type": "stream",
     "text": [
      "Epoch 17: 100%|██████████| 27/27 [00:11<00:00,  2.45it/s, v_num=0, val_loss=0.985, val_acc=0.484, train_loss=0.899]"
     ]
    },
    {
     "name": "stderr",
     "output_type": "stream",
     "text": [
      "Metric val_loss improved by 0.010 >= min_delta = 0.001. New best score: 0.985\n"
     ]
    },
    {
     "name": "stdout",
     "output_type": "stream",
     "text": [
      "Epoch 18: 100%|██████████| 27/27 [00:11<00:00,  2.40it/s, v_num=0, val_loss=0.981, val_acc=0.482, train_loss=0.894]"
     ]
    },
    {
     "name": "stderr",
     "output_type": "stream",
     "text": [
      "Metric val_loss improved by 0.003 >= min_delta = 0.001. New best score: 0.981\n"
     ]
    },
    {
     "name": "stdout",
     "output_type": "stream",
     "text": [
      "Epoch 19: 100%|██████████| 27/27 [00:11<00:00,  2.44it/s, v_num=0, val_loss=0.977, val_acc=0.482, train_loss=0.878]"
     ]
    },
    {
     "name": "stderr",
     "output_type": "stream",
     "text": [
      "Metric val_loss improved by 0.005 >= min_delta = 0.001. New best score: 0.977\n"
     ]
    },
    {
     "name": "stdout",
     "output_type": "stream",
     "text": [
      "Epoch 20: 100%|██████████| 27/27 [00:11<00:00,  2.40it/s, v_num=0, val_loss=0.974, val_acc=0.481, train_loss=0.877]"
     ]
    },
    {
     "name": "stderr",
     "output_type": "stream",
     "text": [
      "Metric val_loss improved by 0.002 >= min_delta = 0.001. New best score: 0.974\n"
     ]
    },
    {
     "name": "stdout",
     "output_type": "stream",
     "text": [
      "Epoch 23: 100%|██████████| 27/27 [00:11<00:00,  2.44it/s, v_num=0, val_loss=0.967, val_acc=0.504, train_loss=0.879]"
     ]
    },
    {
     "name": "stderr",
     "output_type": "stream",
     "text": [
      "Metric val_loss improved by 0.008 >= min_delta = 0.001. New best score: 0.967\n"
     ]
    },
    {
     "name": "stdout",
     "output_type": "stream",
     "text": [
      "Epoch 24: 100%|██████████| 27/27 [00:11<00:00,  2.41it/s, v_num=0, val_loss=0.953, val_acc=0.497, train_loss=0.864]"
     ]
    },
    {
     "name": "stderr",
     "output_type": "stream",
     "text": [
      "Metric val_loss improved by 0.013 >= min_delta = 0.001. New best score: 0.953\n"
     ]
    },
    {
     "name": "stdout",
     "output_type": "stream",
     "text": [
      "Epoch 25: 100%|██████████| 27/27 [00:11<00:00,  2.41it/s, v_num=0, val_loss=0.951, val_acc=0.498, train_loss=0.849]"
     ]
    },
    {
     "name": "stderr",
     "output_type": "stream",
     "text": [
      "Metric val_loss improved by 0.002 >= min_delta = 0.001. New best score: 0.951\n"
     ]
    },
    {
     "name": "stdout",
     "output_type": "stream",
     "text": [
      "Epoch 29: 100%|██████████| 27/27 [00:11<00:00,  2.39it/s, v_num=0, val_loss=0.940, val_acc=0.505, train_loss=0.846]"
     ]
    },
    {
     "name": "stderr",
     "output_type": "stream",
     "text": [
      "Metric val_loss improved by 0.012 >= min_delta = 0.001. New best score: 0.940\n",
      "`Trainer.fit` stopped: `max_epochs=30` reached.\n"
     ]
    },
    {
     "name": "stdout",
     "output_type": "stream",
     "text": [
      "Epoch 29: 100%|██████████| 27/27 [00:11<00:00,  2.35it/s, v_num=0, val_loss=0.940, val_acc=0.505, train_loss=0.846]\n",
      "Entrenando efficientnet_b0 con lr=3e-05\n"
     ]
    },
    {
     "name": "stderr",
     "output_type": "stream",
     "text": [
      "💡 Tip: For seamless cloud uploads and versioning, try installing [litmodels](https://pypi.org/project/litmodels/) to enable LitModelCheckpoint, which syncs automatically with the Lightning model registry.\n",
      "GPU available: True (cuda), used: True\n",
      "TPU available: False, using: 0 TPU cores\n",
      "HPU available: False, using: 0 HPUs\n",
      "LOCAL_RANK: 0 - CUDA_VISIBLE_DEVICES: [0]\n",
      "\n",
      "  | Name    | Type             | Params | Mode \n",
      "-----------------------------------------------------\n",
      "0 | model   | Sequential       | 4.3 M  | train\n",
      "1 | loss_fn | CrossEntropyLoss | 0      | train\n",
      "-----------------------------------------------------\n",
      "740 K     Trainable params\n",
      "3.6 M     Non-trainable params\n",
      "4.3 M     Total params\n",
      "17.345    Total estimated model params size (MB)\n",
      "8         Modules in train mode\n",
      "335       Modules in eval mode\n"
     ]
    },
    {
     "name": "stdout",
     "output_type": "stream",
     "text": [
      "Epoch 0: 100%|██████████| 27/27 [00:15<00:00,  1.77it/s, v_num=0, val_loss=1.060, val_acc=0.509]"
     ]
    },
    {
     "name": "stderr",
     "output_type": "stream",
     "text": [
      "Metric val_loss improved. New best score: 1.065\n"
     ]
    },
    {
     "name": "stdout",
     "output_type": "stream",
     "text": [
      "Epoch 1: 100%|██████████| 27/27 [00:15<00:00,  1.79it/s, v_num=0, val_loss=1.040, val_acc=0.549, train_loss=1.080]"
     ]
    },
    {
     "name": "stderr",
     "output_type": "stream",
     "text": [
      "Metric val_loss improved by 0.029 >= min_delta = 0.001. New best score: 1.035\n"
     ]
    },
    {
     "name": "stdout",
     "output_type": "stream",
     "text": [
      "Epoch 2: 100%|██████████| 27/27 [00:15<00:00,  1.80it/s, v_num=0, val_loss=1.000, val_acc=0.542, train_loss=1.000]"
     ]
    },
    {
     "name": "stderr",
     "output_type": "stream",
     "text": [
      "Metric val_loss improved by 0.031 >= min_delta = 0.001. New best score: 1.005\n"
     ]
    },
    {
     "name": "stdout",
     "output_type": "stream",
     "text": [
      "Epoch 3: 100%|██████████| 27/27 [00:14<00:00,  1.80it/s, v_num=0, val_loss=0.982, val_acc=0.540, train_loss=0.948]"
     ]
    },
    {
     "name": "stderr",
     "output_type": "stream",
     "text": [
      "Metric val_loss improved by 0.023 >= min_delta = 0.001. New best score: 0.982\n"
     ]
    },
    {
     "name": "stdout",
     "output_type": "stream",
     "text": [
      "Epoch 4: 100%|██████████| 27/27 [00:15<00:00,  1.78it/s, v_num=0, val_loss=0.972, val_acc=0.548, train_loss=0.926]"
     ]
    },
    {
     "name": "stderr",
     "output_type": "stream",
     "text": [
      "Metric val_loss improved by 0.010 >= min_delta = 0.001. New best score: 0.972\n"
     ]
    },
    {
     "name": "stdout",
     "output_type": "stream",
     "text": [
      "Epoch 5: 100%|██████████| 27/27 [00:15<00:00,  1.78it/s, v_num=0, val_loss=0.951, val_acc=0.559, train_loss=0.880]"
     ]
    },
    {
     "name": "stderr",
     "output_type": "stream",
     "text": [
      "Metric val_loss improved by 0.021 >= min_delta = 0.001. New best score: 0.951\n"
     ]
    },
    {
     "name": "stdout",
     "output_type": "stream",
     "text": [
      "Epoch 6: 100%|██████████| 27/27 [00:15<00:00,  1.79it/s, v_num=0, val_loss=0.934, val_acc=0.590, train_loss=0.840]"
     ]
    },
    {
     "name": "stderr",
     "output_type": "stream",
     "text": [
      "Metric val_loss improved by 0.017 >= min_delta = 0.001. New best score: 0.934\n"
     ]
    },
    {
     "name": "stdout",
     "output_type": "stream",
     "text": [
      "Epoch 7: 100%|██████████| 27/27 [00:14<00:00,  1.80it/s, v_num=0, val_loss=0.925, val_acc=0.587, train_loss=0.849]"
     ]
    },
    {
     "name": "stderr",
     "output_type": "stream",
     "text": [
      "Metric val_loss improved by 0.009 >= min_delta = 0.001. New best score: 0.925\n"
     ]
    },
    {
     "name": "stdout",
     "output_type": "stream",
     "text": [
      "Epoch 8: 100%|██████████| 27/27 [00:15<00:00,  1.80it/s, v_num=0, val_loss=0.923, val_acc=0.580, train_loss=0.784]"
     ]
    },
    {
     "name": "stderr",
     "output_type": "stream",
     "text": [
      "Metric val_loss improved by 0.002 >= min_delta = 0.001. New best score: 0.923\n"
     ]
    },
    {
     "name": "stdout",
     "output_type": "stream",
     "text": [
      "Epoch 9: 100%|██████████| 27/27 [00:15<00:00,  1.79it/s, v_num=0, val_loss=0.911, val_acc=0.578, train_loss=0.780]"
     ]
    },
    {
     "name": "stderr",
     "output_type": "stream",
     "text": [
      "Metric val_loss improved by 0.012 >= min_delta = 0.001. New best score: 0.911\n"
     ]
    },
    {
     "name": "stdout",
     "output_type": "stream",
     "text": [
      "Epoch 10: 100%|██████████| 27/27 [00:14<00:00,  1.80it/s, v_num=0, val_loss=0.896, val_acc=0.595, train_loss=0.765]"
     ]
    },
    {
     "name": "stderr",
     "output_type": "stream",
     "text": [
      "Metric val_loss improved by 0.015 >= min_delta = 0.001. New best score: 0.896\n"
     ]
    },
    {
     "name": "stdout",
     "output_type": "stream",
     "text": [
      "Epoch 11: 100%|██████████| 27/27 [00:15<00:00,  1.80it/s, v_num=0, val_loss=0.883, val_acc=0.588, train_loss=0.734]"
     ]
    },
    {
     "name": "stderr",
     "output_type": "stream",
     "text": [
      "Metric val_loss improved by 0.013 >= min_delta = 0.001. New best score: 0.883\n"
     ]
    },
    {
     "name": "stdout",
     "output_type": "stream",
     "text": [
      "Epoch 12: 100%|██████████| 27/27 [00:15<00:00,  1.78it/s, v_num=0, val_loss=0.869, val_acc=0.590, train_loss=0.755]"
     ]
    },
    {
     "name": "stderr",
     "output_type": "stream",
     "text": [
      "Metric val_loss improved by 0.014 >= min_delta = 0.001. New best score: 0.869\n"
     ]
    },
    {
     "name": "stdout",
     "output_type": "stream",
     "text": [
      "Epoch 14: 100%|██████████| 27/27 [00:14<00:00,  1.80it/s, v_num=0, val_loss=0.849, val_acc=0.617, train_loss=0.718]"
     ]
    },
    {
     "name": "stderr",
     "output_type": "stream",
     "text": [
      "Metric val_loss improved by 0.020 >= min_delta = 0.001. New best score: 0.849\n"
     ]
    },
    {
     "name": "stdout",
     "output_type": "stream",
     "text": [
      "Epoch 15: 100%|██████████| 27/27 [00:15<00:00,  1.79it/s, v_num=0, val_loss=0.845, val_acc=0.603, train_loss=0.702]"
     ]
    },
    {
     "name": "stderr",
     "output_type": "stream",
     "text": [
      "Metric val_loss improved by 0.003 >= min_delta = 0.001. New best score: 0.845\n"
     ]
    },
    {
     "name": "stdout",
     "output_type": "stream",
     "text": [
      "Epoch 16: 100%|██████████| 27/27 [00:15<00:00,  1.78it/s, v_num=0, val_loss=0.841, val_acc=0.607, train_loss=0.707]"
     ]
    },
    {
     "name": "stderr",
     "output_type": "stream",
     "text": [
      "Metric val_loss improved by 0.004 >= min_delta = 0.001. New best score: 0.841\n"
     ]
    },
    {
     "name": "stdout",
     "output_type": "stream",
     "text": [
      "Epoch 17: 100%|██████████| 27/27 [00:15<00:00,  1.80it/s, v_num=0, val_loss=0.838, val_acc=0.606, train_loss=0.704]"
     ]
    },
    {
     "name": "stderr",
     "output_type": "stream",
     "text": [
      "Metric val_loss improved by 0.003 >= min_delta = 0.001. New best score: 0.838\n"
     ]
    },
    {
     "name": "stdout",
     "output_type": "stream",
     "text": [
      "Epoch 18: 100%|██████████| 27/27 [00:15<00:00,  1.80it/s, v_num=0, val_loss=0.833, val_acc=0.603, train_loss=0.717]"
     ]
    },
    {
     "name": "stderr",
     "output_type": "stream",
     "text": [
      "Metric val_loss improved by 0.005 >= min_delta = 0.001. New best score: 0.833\n"
     ]
    },
    {
     "name": "stdout",
     "output_type": "stream",
     "text": [
      "Epoch 19: 100%|██████████| 27/27 [00:15<00:00,  1.79it/s, v_num=0, val_loss=0.826, val_acc=0.613, train_loss=0.683]"
     ]
    },
    {
     "name": "stderr",
     "output_type": "stream",
     "text": [
      "Metric val_loss improved by 0.006 >= min_delta = 0.001. New best score: 0.826\n"
     ]
    },
    {
     "name": "stdout",
     "output_type": "stream",
     "text": [
      "Epoch 20: 100%|██████████| 27/27 [00:14<00:00,  1.82it/s, v_num=0, val_loss=0.815, val_acc=0.605, train_loss=0.680]"
     ]
    },
    {
     "name": "stderr",
     "output_type": "stream",
     "text": [
      "Metric val_loss improved by 0.012 >= min_delta = 0.001. New best score: 0.815\n"
     ]
    },
    {
     "name": "stdout",
     "output_type": "stream",
     "text": [
      "Epoch 22: 100%|██████████| 27/27 [00:15<00:00,  1.74it/s, v_num=0, val_loss=0.795, val_acc=0.631, train_loss=0.675]"
     ]
    },
    {
     "name": "stderr",
     "output_type": "stream",
     "text": [
      "Metric val_loss improved by 0.020 >= min_delta = 0.001. New best score: 0.795\n"
     ]
    },
    {
     "name": "stdout",
     "output_type": "stream",
     "text": [
      "Epoch 24: 100%|██████████| 27/27 [00:15<00:00,  1.79it/s, v_num=0, val_loss=0.788, val_acc=0.656, train_loss=0.664]"
     ]
    },
    {
     "name": "stderr",
     "output_type": "stream",
     "text": [
      "Metric val_loss improved by 0.007 >= min_delta = 0.001. New best score: 0.788\n"
     ]
    },
    {
     "name": "stdout",
     "output_type": "stream",
     "text": [
      "Epoch 25: 100%|██████████| 27/27 [00:15<00:00,  1.77it/s, v_num=0, val_loss=0.782, val_acc=0.661, train_loss=0.651]"
     ]
    },
    {
     "name": "stderr",
     "output_type": "stream",
     "text": [
      "Metric val_loss improved by 0.005 >= min_delta = 0.001. New best score: 0.782\n"
     ]
    },
    {
     "name": "stdout",
     "output_type": "stream",
     "text": [
      "Epoch 26: 100%|██████████| 27/27 [00:15<00:00,  1.78it/s, v_num=0, val_loss=0.777, val_acc=0.662, train_loss=0.650]"
     ]
    },
    {
     "name": "stderr",
     "output_type": "stream",
     "text": [
      "Metric val_loss improved by 0.005 >= min_delta = 0.001. New best score: 0.777\n"
     ]
    },
    {
     "name": "stdout",
     "output_type": "stream",
     "text": [
      "Epoch 27: 100%|██████████| 27/27 [00:15<00:00,  1.77it/s, v_num=0, val_loss=0.769, val_acc=0.663, train_loss=0.644]"
     ]
    },
    {
     "name": "stderr",
     "output_type": "stream",
     "text": [
      "Metric val_loss improved by 0.008 >= min_delta = 0.001. New best score: 0.769\n"
     ]
    },
    {
     "name": "stdout",
     "output_type": "stream",
     "text": [
      "Epoch 28: 100%|██████████| 27/27 [00:14<00:00,  1.86it/s, v_num=0, val_loss=0.762, val_acc=0.678, train_loss=0.670]"
     ]
    },
    {
     "name": "stderr",
     "output_type": "stream",
     "text": [
      "Metric val_loss improved by 0.006 >= min_delta = 0.001. New best score: 0.762\n"
     ]
    },
    {
     "name": "stdout",
     "output_type": "stream",
     "text": [
      "Epoch 29: 100%|██████████| 27/27 [00:13<00:00,  1.99it/s, v_num=0, val_loss=0.767, val_acc=0.680, train_loss=0.643]"
     ]
    },
    {
     "name": "stderr",
     "output_type": "stream",
     "text": [
      "`Trainer.fit` stopped: `max_epochs=30` reached.\n"
     ]
    },
    {
     "name": "stdout",
     "output_type": "stream",
     "text": [
      "Epoch 29: 100%|██████████| 27/27 [00:13<00:00,  1.97it/s, v_num=0, val_loss=0.767, val_acc=0.680, train_loss=0.643]\n",
      "Entrenando mobilenet_v3_large con lr=3e-05\n"
     ]
    },
    {
     "name": "stderr",
     "output_type": "stream",
     "text": [
      "💡 Tip: For seamless cloud uploads and versioning, try installing [litmodels](https://pypi.org/project/litmodels/) to enable LitModelCheckpoint, which syncs automatically with the Lightning model registry.\n",
      "GPU available: True (cuda), used: True\n",
      "TPU available: False, using: 0 TPU cores\n",
      "HPU available: False, using: 0 HPUs\n",
      "LOCAL_RANK: 0 - CUDA_VISIBLE_DEVICES: [0]\n",
      "\n",
      "  | Name    | Type             | Params | Mode \n",
      "-----------------------------------------------------\n",
      "0 | model   | Sequential       | 3.2 M  | train\n",
      "1 | loss_fn | CrossEntropyLoss | 0      | train\n",
      "-----------------------------------------------------\n",
      "3.1 M     Trainable params\n",
      "93.2 K    Non-trainable params\n",
      "3.2 M     Total params\n",
      "12.875    Total estimated model params size (MB)\n",
      "8         Modules in train mode\n",
      "251       Modules in eval mode\n"
     ]
    },
    {
     "name": "stdout",
     "output_type": "stream",
     "text": [
      "Epoch 0: 100%|██████████| 27/27 [00:13<00:00,  1.98it/s, v_num=0, val_loss=1.030, val_acc=0.397]"
     ]
    },
    {
     "name": "stderr",
     "output_type": "stream",
     "text": [
      "Metric val_loss improved. New best score: 1.027\n"
     ]
    },
    {
     "name": "stdout",
     "output_type": "stream",
     "text": [
      "Epoch 1: 100%|██████████| 27/27 [00:13<00:00,  1.95it/s, v_num=0, val_loss=0.904, val_acc=0.527, train_loss=1.040]"
     ]
    },
    {
     "name": "stderr",
     "output_type": "stream",
     "text": [
      "Metric val_loss improved by 0.124 >= min_delta = 0.001. New best score: 0.904\n"
     ]
    },
    {
     "name": "stdout",
     "output_type": "stream",
     "text": [
      "Epoch 2: 100%|██████████| 27/27 [00:12<00:00,  2.11it/s, v_num=0, val_loss=0.757, val_acc=0.636, train_loss=0.884]"
     ]
    },
    {
     "name": "stderr",
     "output_type": "stream",
     "text": [
      "Metric val_loss improved by 0.147 >= min_delta = 0.001. New best score: 0.757\n"
     ]
    },
    {
     "name": "stdout",
     "output_type": "stream",
     "text": [
      "Epoch 3: 100%|██████████| 27/27 [00:12<00:00,  2.16it/s, v_num=0, val_loss=0.738, val_acc=0.675, train_loss=0.747]"
     ]
    },
    {
     "name": "stderr",
     "output_type": "stream",
     "text": [
      "Metric val_loss improved by 0.019 >= min_delta = 0.001. New best score: 0.738\n"
     ]
    },
    {
     "name": "stdout",
     "output_type": "stream",
     "text": [
      "Epoch 7: 100%|██████████| 27/27 [00:13<00:00,  1.96it/s, v_num=0, val_loss=0.680, val_acc=0.729, train_loss=0.692]"
     ]
    },
    {
     "name": "stderr",
     "output_type": "stream",
     "text": [
      "Metric val_loss improved by 0.058 >= min_delta = 0.001. New best score: 0.680\n"
     ]
    },
    {
     "name": "stdout",
     "output_type": "stream",
     "text": [
      "Epoch 8: 100%|██████████| 27/27 [00:13<00:00,  1.98it/s, v_num=0, val_loss=0.652, val_acc=0.738, train_loss=0.676]"
     ]
    },
    {
     "name": "stderr",
     "output_type": "stream",
     "text": [
      "Metric val_loss improved by 0.028 >= min_delta = 0.001. New best score: 0.652\n"
     ]
    },
    {
     "name": "stdout",
     "output_type": "stream",
     "text": [
      "Epoch 9: 100%|██████████| 27/27 [00:12<00:00,  2.15it/s, v_num=0, val_loss=0.644, val_acc=0.739, train_loss=0.598]"
     ]
    },
    {
     "name": "stderr",
     "output_type": "stream",
     "text": [
      "Metric val_loss improved by 0.008 >= min_delta = 0.001. New best score: 0.644\n"
     ]
    },
    {
     "name": "stdout",
     "output_type": "stream",
     "text": [
      "Epoch 13: 100%|██████████| 27/27 [00:12<00:00,  2.13it/s, v_num=0, val_loss=0.603, val_acc=0.766, train_loss=0.567]"
     ]
    },
    {
     "name": "stderr",
     "output_type": "stream",
     "text": [
      "Metric val_loss improved by 0.042 >= min_delta = 0.001. New best score: 0.603\n"
     ]
    },
    {
     "name": "stdout",
     "output_type": "stream",
     "text": [
      "Epoch 18: 100%|██████████| 27/27 [00:13<00:00,  1.97it/s, v_num=0, val_loss=0.648, val_acc=0.734, train_loss=0.535]"
     ]
    },
    {
     "name": "stderr",
     "output_type": "stream",
     "text": [
      "Monitored metric val_loss did not improve in the last 5 records. Best score: 0.603. Signaling Trainer to stop.\n"
     ]
    },
    {
     "name": "stdout",
     "output_type": "stream",
     "text": [
      "Epoch 18: 100%|██████████| 27/27 [00:13<00:00,  1.94it/s, v_num=0, val_loss=0.648, val_acc=0.734, train_loss=0.535]\n",
      "Entrenando convnext_tiny con lr=3e-05\n"
     ]
    },
    {
     "name": "stderr",
     "output_type": "stream",
     "text": [
      "💡 Tip: For seamless cloud uploads and versioning, try installing [litmodels](https://pypi.org/project/litmodels/) to enable LitModelCheckpoint, which syncs automatically with the Lightning model registry.\n",
      "GPU available: True (cuda), used: True\n",
      "TPU available: False, using: 0 TPU cores\n",
      "HPU available: False, using: 0 HPUs\n",
      "LOCAL_RANK: 0 - CUDA_VISIBLE_DEVICES: [0]\n",
      "\n",
      "  | Name    | Type             | Params | Mode \n",
      "-----------------------------------------------------\n",
      "0 | model   | Sequential       | 28.0 M | train\n",
      "1 | loss_fn | CrossEntropyLoss | 0      | train\n",
      "-----------------------------------------------------\n",
      "14.5 M    Trainable params\n",
      "13.5 M    Non-trainable params\n",
      "28.0 M    Total params\n",
      "112.065   Total estimated model params size (MB)\n",
      "8         Modules in train mode\n",
      "200       Modules in eval mode\n"
     ]
    },
    {
     "name": "stdout",
     "output_type": "stream",
     "text": [
      "Epoch 0: 100%|██████████| 27/27 [00:27<00:00,  0.98it/s, v_num=0, val_loss=1.080, val_acc=0.455]"
     ]
    },
    {
     "name": "stderr",
     "output_type": "stream",
     "text": [
      "Metric val_loss improved. New best score: 1.079\n"
     ]
    },
    {
     "name": "stdout",
     "output_type": "stream",
     "text": [
      "Epoch 1: 100%|██████████| 27/27 [00:23<00:00,  1.15it/s, v_num=0, val_loss=1.020, val_acc=0.465, train_loss=1.080]"
     ]
    },
    {
     "name": "stderr",
     "output_type": "stream",
     "text": [
      "Metric val_loss improved by 0.055 >= min_delta = 0.001. New best score: 1.024\n"
     ]
    },
    {
     "name": "stdout",
     "output_type": "stream",
     "text": [
      "Epoch 2: 100%|██████████| 27/27 [00:22<00:00,  1.18it/s, v_num=0, val_loss=0.914, val_acc=0.565, train_loss=0.994]"
     ]
    },
    {
     "name": "stderr",
     "output_type": "stream",
     "text": [
      "Metric val_loss improved by 0.110 >= min_delta = 0.001. New best score: 0.914\n"
     ]
    },
    {
     "name": "stdout",
     "output_type": "stream",
     "text": [
      "Epoch 3: 100%|██████████| 27/27 [00:22<00:00,  1.19it/s, v_num=0, val_loss=0.787, val_acc=0.675, train_loss=0.856]"
     ]
    },
    {
     "name": "stderr",
     "output_type": "stream",
     "text": [
      "Metric val_loss improved by 0.127 >= min_delta = 0.001. New best score: 0.787\n"
     ]
    },
    {
     "name": "stdout",
     "output_type": "stream",
     "text": [
      "Epoch 4: 100%|██████████| 27/27 [00:22<00:00,  1.20it/s, v_num=0, val_loss=0.753, val_acc=0.700, train_loss=0.761]"
     ]
    },
    {
     "name": "stderr",
     "output_type": "stream",
     "text": [
      "Metric val_loss improved by 0.034 >= min_delta = 0.001. New best score: 0.753\n"
     ]
    },
    {
     "name": "stdout",
     "output_type": "stream",
     "text": [
      "Epoch 5: 100%|██████████| 27/27 [00:22<00:00,  1.18it/s, v_num=0, val_loss=0.722, val_acc=0.720, train_loss=0.698]"
     ]
    },
    {
     "name": "stderr",
     "output_type": "stream",
     "text": [
      "Metric val_loss improved by 0.031 >= min_delta = 0.001. New best score: 0.722\n"
     ]
    },
    {
     "name": "stdout",
     "output_type": "stream",
     "text": [
      "Epoch 8: 100%|██████████| 27/27 [00:23<00:00,  1.15it/s, v_num=0, val_loss=0.701, val_acc=0.704, train_loss=0.634]"
     ]
    },
    {
     "name": "stderr",
     "output_type": "stream",
     "text": [
      "Metric val_loss improved by 0.021 >= min_delta = 0.001. New best score: 0.701\n"
     ]
    },
    {
     "name": "stdout",
     "output_type": "stream",
     "text": [
      "Epoch 9: 100%|██████████| 27/27 [00:23<00:00,  1.16it/s, v_num=0, val_loss=0.699, val_acc=0.716, train_loss=0.563]"
     ]
    },
    {
     "name": "stderr",
     "output_type": "stream",
     "text": [
      "Metric val_loss improved by 0.001 >= min_delta = 0.001. New best score: 0.699\n"
     ]
    },
    {
     "name": "stdout",
     "output_type": "stream",
     "text": [
      "Epoch 14: 100%|██████████| 27/27 [00:24<00:00,  1.10it/s, v_num=0, val_loss=0.829, val_acc=0.711, train_loss=0.426]"
     ]
    },
    {
     "name": "stderr",
     "output_type": "stream",
     "text": [
      "Monitored metric val_loss did not improve in the last 5 records. Best score: 0.699. Signaling Trainer to stop.\n"
     ]
    },
    {
     "name": "stdout",
     "output_type": "stream",
     "text": [
      "Epoch 14: 100%|██████████| 27/27 [00:25<00:00,  1.05it/s, v_num=0, val_loss=0.829, val_acc=0.711, train_loss=0.426]\n",
      "Entrenando resnet18 con lr=1e-05\n"
     ]
    },
    {
     "name": "stderr",
     "output_type": "stream",
     "text": [
      "💡 Tip: For seamless cloud uploads and versioning, try installing [litmodels](https://pypi.org/project/litmodels/) to enable LitModelCheckpoint, which syncs automatically with the Lightning model registry.\n",
      "GPU available: True (cuda), used: True\n",
      "TPU available: False, using: 0 TPU cores\n",
      "HPU available: False, using: 0 HPUs\n",
      "LOCAL_RANK: 0 - CUDA_VISIBLE_DEVICES: [0]\n",
      "\n",
      "  | Name    | Type             | Params | Mode \n",
      "-----------------------------------------------------\n",
      "0 | model   | Sequential       | 11.3 M | train\n",
      "1 | loss_fn | CrossEntropyLoss | 0      | train\n",
      "-----------------------------------------------------\n",
      "132 K     Trainable params\n",
      "11.2 M    Non-trainable params\n",
      "11.3 M    Total params\n",
      "45.234    Total estimated model params size (MB)\n",
      "8         Modules in train mode\n",
      "68        Modules in eval mode\n"
     ]
    },
    {
     "name": "stdout",
     "output_type": "stream",
     "text": [
      "Epoch 0: 100%|██████████| 27/27 [00:10<00:00,  2.68it/s, v_num=0, val_loss=1.110, val_acc=0.278]"
     ]
    },
    {
     "name": "stderr",
     "output_type": "stream",
     "text": [
      "Metric val_loss improved. New best score: 1.111\n"
     ]
    },
    {
     "name": "stdout",
     "output_type": "stream",
     "text": [
      "Epoch 5: 100%|██████████| 27/27 [00:10<00:00,  2.68it/s, v_num=0, val_loss=1.120, val_acc=0.322, train_loss=1.090]"
     ]
    },
    {
     "name": "stderr",
     "output_type": "stream",
     "text": [
      "Monitored metric val_loss did not improve in the last 5 records. Best score: 1.111. Signaling Trainer to stop.\n"
     ]
    },
    {
     "name": "stdout",
     "output_type": "stream",
     "text": [
      "Epoch 5: 100%|██████████| 27/27 [00:10<00:00,  2.64it/s, v_num=0, val_loss=1.120, val_acc=0.322, train_loss=1.090]\n",
      "Entrenando efficientnet_b0 con lr=1e-05\n"
     ]
    },
    {
     "name": "stderr",
     "output_type": "stream",
     "text": [
      "💡 Tip: For seamless cloud uploads and versioning, try installing [litmodels](https://pypi.org/project/litmodels/) to enable LitModelCheckpoint, which syncs automatically with the Lightning model registry.\n",
      "GPU available: True (cuda), used: True\n",
      "TPU available: False, using: 0 TPU cores\n",
      "HPU available: False, using: 0 HPUs\n",
      "LOCAL_RANK: 0 - CUDA_VISIBLE_DEVICES: [0]\n",
      "\n",
      "  | Name    | Type             | Params | Mode \n",
      "-----------------------------------------------------\n",
      "0 | model   | Sequential       | 4.3 M  | train\n",
      "1 | loss_fn | CrossEntropyLoss | 0      | train\n",
      "-----------------------------------------------------\n",
      "740 K     Trainable params\n",
      "3.6 M     Non-trainable params\n",
      "4.3 M     Total params\n",
      "17.345    Total estimated model params size (MB)\n",
      "8         Modules in train mode\n",
      "335       Modules in eval mode\n"
     ]
    },
    {
     "name": "stdout",
     "output_type": "stream",
     "text": [
      "Epoch 0: 100%|██████████| 27/27 [00:14<00:00,  1.87it/s, v_num=0, val_loss=1.080, val_acc=0.497]"
     ]
    },
    {
     "name": "stderr",
     "output_type": "stream",
     "text": [
      "Metric val_loss improved. New best score: 1.077\n"
     ]
    },
    {
     "name": "stdout",
     "output_type": "stream",
     "text": [
      "Epoch 1: 100%|██████████| 27/27 [00:15<00:00,  1.76it/s, v_num=0, val_loss=1.070, val_acc=0.455, train_loss=1.090]"
     ]
    },
    {
     "name": "stderr",
     "output_type": "stream",
     "text": [
      "Metric val_loss improved by 0.007 >= min_delta = 0.001. New best score: 1.070\n"
     ]
    },
    {
     "name": "stdout",
     "output_type": "stream",
     "text": [
      "Epoch 2: 100%|██████████| 27/27 [00:16<00:00,  1.66it/s, v_num=0, val_loss=1.060, val_acc=0.433, train_loss=1.070]"
     ]
    },
    {
     "name": "stderr",
     "output_type": "stream",
     "text": [
      "Metric val_loss improved by 0.009 >= min_delta = 0.001. New best score: 1.061\n"
     ]
    },
    {
     "name": "stdout",
     "output_type": "stream",
     "text": [
      "Epoch 3: 100%|██████████| 27/27 [00:15<00:00,  1.71it/s, v_num=0, val_loss=1.050, val_acc=0.435, train_loss=1.050]"
     ]
    },
    {
     "name": "stderr",
     "output_type": "stream",
     "text": [
      "Metric val_loss improved by 0.009 >= min_delta = 0.001. New best score: 1.053\n"
     ]
    },
    {
     "name": "stdout",
     "output_type": "stream",
     "text": [
      "Epoch 4: 100%|██████████| 27/27 [00:19<00:00,  1.42it/s, v_num=0, val_loss=1.040, val_acc=0.460, train_loss=1.040]"
     ]
    },
    {
     "name": "stderr",
     "output_type": "stream",
     "text": [
      "Metric val_loss improved by 0.012 >= min_delta = 0.001. New best score: 1.041\n"
     ]
    },
    {
     "name": "stdout",
     "output_type": "stream",
     "text": [
      "Epoch 5: 100%|██████████| 27/27 [00:21<00:00,  1.26it/s, v_num=0, val_loss=1.030, val_acc=0.462, train_loss=1.020]"
     ]
    },
    {
     "name": "stderr",
     "output_type": "stream",
     "text": [
      "Metric val_loss improved by 0.010 >= min_delta = 0.001. New best score: 1.031\n"
     ]
    },
    {
     "name": "stdout",
     "output_type": "stream",
     "text": [
      "Epoch 6: 100%|██████████| 27/27 [00:21<00:00,  1.26it/s, v_num=0, val_loss=1.030, val_acc=0.458, train_loss=1.010]"
     ]
    },
    {
     "name": "stderr",
     "output_type": "stream",
     "text": [
      "Metric val_loss improved by 0.004 >= min_delta = 0.001. New best score: 1.027\n"
     ]
    },
    {
     "name": "stdout",
     "output_type": "stream",
     "text": [
      "Epoch 7: 100%|██████████| 27/27 [00:21<00:00,  1.28it/s, v_num=0, val_loss=1.020, val_acc=0.469, train_loss=0.979]"
     ]
    },
    {
     "name": "stderr",
     "output_type": "stream",
     "text": [
      "Metric val_loss improved by 0.008 >= min_delta = 0.001. New best score: 1.019\n"
     ]
    },
    {
     "name": "stdout",
     "output_type": "stream",
     "text": [
      "Epoch 8: 100%|██████████| 27/27 [00:21<00:00,  1.28it/s, v_num=0, val_loss=1.010, val_acc=0.467, train_loss=0.966]"
     ]
    },
    {
     "name": "stderr",
     "output_type": "stream",
     "text": [
      "Metric val_loss improved by 0.006 >= min_delta = 0.001. New best score: 1.013\n"
     ]
    },
    {
     "name": "stdout",
     "output_type": "stream",
     "text": [
      "Epoch 9: 100%|██████████| 27/27 [00:21<00:00,  1.27it/s, v_num=0, val_loss=1.000, val_acc=0.481, train_loss=0.954]"
     ]
    },
    {
     "name": "stderr",
     "output_type": "stream",
     "text": [
      "Metric val_loss improved by 0.009 >= min_delta = 0.001. New best score: 1.004\n"
     ]
    },
    {
     "name": "stdout",
     "output_type": "stream",
     "text": [
      "Epoch 10: 100%|██████████| 27/27 [00:19<00:00,  1.42it/s, v_num=0, val_loss=0.998, val_acc=0.490, train_loss=0.936]"
     ]
    },
    {
     "name": "stderr",
     "output_type": "stream",
     "text": [
      "Metric val_loss improved by 0.006 >= min_delta = 0.001. New best score: 0.998\n"
     ]
    },
    {
     "name": "stdout",
     "output_type": "stream",
     "text": [
      "Epoch 11: 100%|██████████| 27/27 [00:19<00:00,  1.35it/s, v_num=0, val_loss=0.986, val_acc=0.481, train_loss=0.932]"
     ]
    },
    {
     "name": "stderr",
     "output_type": "stream",
     "text": [
      "Metric val_loss improved by 0.012 >= min_delta = 0.001. New best score: 0.986\n"
     ]
    },
    {
     "name": "stdout",
     "output_type": "stream",
     "text": [
      "Epoch 12: 100%|██████████| 27/27 [00:20<00:00,  1.31it/s, v_num=0, val_loss=0.983, val_acc=0.471, train_loss=0.913]"
     ]
    },
    {
     "name": "stderr",
     "output_type": "stream",
     "text": [
      "Metric val_loss improved by 0.004 >= min_delta = 0.001. New best score: 0.983\n"
     ]
    },
    {
     "name": "stdout",
     "output_type": "stream",
     "text": [
      "Epoch 13: 100%|██████████| 27/27 [00:20<00:00,  1.30it/s, v_num=0, val_loss=0.978, val_acc=0.476, train_loss=0.900]"
     ]
    },
    {
     "name": "stderr",
     "output_type": "stream",
     "text": [
      "Metric val_loss improved by 0.004 >= min_delta = 0.001. New best score: 0.978\n"
     ]
    },
    {
     "name": "stdout",
     "output_type": "stream",
     "text": [
      "Epoch 14: 100%|██████████| 27/27 [00:21<00:00,  1.28it/s, v_num=0, val_loss=0.969, val_acc=0.493, train_loss=0.883]"
     ]
    },
    {
     "name": "stderr",
     "output_type": "stream",
     "text": [
      "Metric val_loss improved by 0.009 >= min_delta = 0.001. New best score: 0.969\n"
     ]
    },
    {
     "name": "stdout",
     "output_type": "stream",
     "text": [
      "Epoch 15: 100%|██████████| 27/27 [00:20<00:00,  1.29it/s, v_num=0, val_loss=0.967, val_acc=0.485, train_loss=0.872]"
     ]
    },
    {
     "name": "stderr",
     "output_type": "stream",
     "text": [
      "Metric val_loss improved by 0.002 >= min_delta = 0.001. New best score: 0.967\n"
     ]
    },
    {
     "name": "stdout",
     "output_type": "stream",
     "text": [
      "Epoch 16: 100%|██████████| 27/27 [00:21<00:00,  1.29it/s, v_num=0, val_loss=0.955, val_acc=0.519, train_loss=0.868]"
     ]
    },
    {
     "name": "stderr",
     "output_type": "stream",
     "text": [
      "Metric val_loss improved by 0.012 >= min_delta = 0.001. New best score: 0.955\n"
     ]
    },
    {
     "name": "stdout",
     "output_type": "stream",
     "text": [
      "Epoch 17: 100%|██████████| 27/27 [00:19<00:00,  1.35it/s, v_num=0, val_loss=0.949, val_acc=0.519, train_loss=0.858]"
     ]
    },
    {
     "name": "stderr",
     "output_type": "stream",
     "text": [
      "Metric val_loss improved by 0.006 >= min_delta = 0.001. New best score: 0.949\n"
     ]
    },
    {
     "name": "stdout",
     "output_type": "stream",
     "text": [
      "Epoch 18: 100%|██████████| 27/27 [00:20<00:00,  1.33it/s, v_num=0, val_loss=0.946, val_acc=0.518, train_loss=0.845]"
     ]
    },
    {
     "name": "stderr",
     "output_type": "stream",
     "text": [
      "Metric val_loss improved by 0.004 >= min_delta = 0.001. New best score: 0.946\n"
     ]
    },
    {
     "name": "stdout",
     "output_type": "stream",
     "text": [
      "Epoch 20: 100%|██████████| 27/27 [00:20<00:00,  1.34it/s, v_num=0, val_loss=0.942, val_acc=0.505, train_loss=0.811]"
     ]
    },
    {
     "name": "stderr",
     "output_type": "stream",
     "text": [
      "Metric val_loss improved by 0.004 >= min_delta = 0.001. New best score: 0.942\n"
     ]
    },
    {
     "name": "stdout",
     "output_type": "stream",
     "text": [
      "Epoch 21: 100%|██████████| 27/27 [00:18<00:00,  1.47it/s, v_num=0, val_loss=0.939, val_acc=0.521, train_loss=0.805]"
     ]
    },
    {
     "name": "stderr",
     "output_type": "stream",
     "text": [
      "Metric val_loss improved by 0.003 >= min_delta = 0.001. New best score: 0.939\n"
     ]
    },
    {
     "name": "stdout",
     "output_type": "stream",
     "text": [
      "Epoch 22: 100%|██████████| 27/27 [00:19<00:00,  1.36it/s, v_num=0, val_loss=0.931, val_acc=0.539, train_loss=0.800]"
     ]
    },
    {
     "name": "stderr",
     "output_type": "stream",
     "text": [
      "Metric val_loss improved by 0.008 >= min_delta = 0.001. New best score: 0.931\n"
     ]
    },
    {
     "name": "stdout",
     "output_type": "stream",
     "text": [
      "Epoch 23: 100%|██████████| 27/27 [00:20<00:00,  1.34it/s, v_num=0, val_loss=0.928, val_acc=0.535, train_loss=0.809]"
     ]
    },
    {
     "name": "stderr",
     "output_type": "stream",
     "text": [
      "Metric val_loss improved by 0.003 >= min_delta = 0.001. New best score: 0.928\n"
     ]
    },
    {
     "name": "stdout",
     "output_type": "stream",
     "text": [
      "Epoch 24: 100%|██████████| 27/27 [00:20<00:00,  1.35it/s, v_num=0, val_loss=0.921, val_acc=0.545, train_loss=0.792]"
     ]
    },
    {
     "name": "stderr",
     "output_type": "stream",
     "text": [
      "Metric val_loss improved by 0.007 >= min_delta = 0.001. New best score: 0.921\n"
     ]
    },
    {
     "name": "stdout",
     "output_type": "stream",
     "text": [
      "Epoch 29: 100%|██████████| 27/27 [00:21<00:00,  1.24it/s, v_num=0, val_loss=0.915, val_acc=0.547, train_loss=0.771]"
     ]
    },
    {
     "name": "stderr",
     "output_type": "stream",
     "text": [
      "Metric val_loss improved by 0.006 >= min_delta = 0.001. New best score: 0.915\n",
      "`Trainer.fit` stopped: `max_epochs=30` reached.\n"
     ]
    },
    {
     "name": "stdout",
     "output_type": "stream",
     "text": [
      "Epoch 29: 100%|██████████| 27/27 [00:22<00:00,  1.23it/s, v_num=0, val_loss=0.915, val_acc=0.547, train_loss=0.771]\n",
      "Entrenando mobilenet_v3_large con lr=1e-05\n"
     ]
    },
    {
     "name": "stderr",
     "output_type": "stream",
     "text": [
      "💡 Tip: For seamless cloud uploads and versioning, try installing [litmodels](https://pypi.org/project/litmodels/) to enable LitModelCheckpoint, which syncs automatically with the Lightning model registry.\n",
      "GPU available: True (cuda), used: True\n",
      "TPU available: False, using: 0 TPU cores\n",
      "HPU available: False, using: 0 HPUs\n",
      "LOCAL_RANK: 0 - CUDA_VISIBLE_DEVICES: [0]\n",
      "\n",
      "  | Name    | Type             | Params | Mode \n",
      "-----------------------------------------------------\n",
      "0 | model   | Sequential       | 3.2 M  | train\n",
      "1 | loss_fn | CrossEntropyLoss | 0      | train\n",
      "-----------------------------------------------------\n",
      "3.1 M     Trainable params\n",
      "93.2 K    Non-trainable params\n",
      "3.2 M     Total params\n",
      "12.875    Total estimated model params size (MB)\n",
      "8         Modules in train mode\n",
      "251       Modules in eval mode\n"
     ]
    },
    {
     "name": "stdout",
     "output_type": "stream",
     "text": [
      "Epoch 0: 100%|██████████| 27/27 [00:16<00:00,  1.61it/s, v_num=0, val_loss=1.090, val_acc=0.266]"
     ]
    },
    {
     "name": "stderr",
     "output_type": "stream",
     "text": [
      "Metric val_loss improved. New best score: 1.094\n"
     ]
    },
    {
     "name": "stdout",
     "output_type": "stream",
     "text": [
      "Epoch 1: 100%|██████████| 27/27 [00:16<00:00,  1.62it/s, v_num=0, val_loss=1.070, val_acc=0.398, train_loss=1.090]"
     ]
    },
    {
     "name": "stderr",
     "output_type": "stream",
     "text": [
      "Metric val_loss improved by 0.025 >= min_delta = 0.001. New best score: 1.069\n"
     ]
    },
    {
     "name": "stdout",
     "output_type": "stream",
     "text": [
      "Epoch 2: 100%|██████████| 27/27 [00:16<00:00,  1.67it/s, v_num=0, val_loss=1.030, val_acc=0.416, train_loss=1.050]"
     ]
    },
    {
     "name": "stderr",
     "output_type": "stream",
     "text": [
      "Metric val_loss improved by 0.038 >= min_delta = 0.001. New best score: 1.031\n"
     ]
    },
    {
     "name": "stdout",
     "output_type": "stream",
     "text": [
      "Epoch 3: 100%|██████████| 27/27 [00:16<00:00,  1.67it/s, v_num=0, val_loss=0.957, val_acc=0.470, train_loss=0.992]"
     ]
    },
    {
     "name": "stderr",
     "output_type": "stream",
     "text": [
      "Metric val_loss improved by 0.074 >= min_delta = 0.001. New best score: 0.957\n"
     ]
    },
    {
     "name": "stdout",
     "output_type": "stream",
     "text": [
      "Epoch 4: 100%|██████████| 27/27 [00:15<00:00,  1.70it/s, v_num=0, val_loss=0.926, val_acc=0.458, train_loss=0.902]"
     ]
    },
    {
     "name": "stderr",
     "output_type": "stream",
     "text": [
      "Metric val_loss improved by 0.031 >= min_delta = 0.001. New best score: 0.926\n"
     ]
    },
    {
     "name": "stdout",
     "output_type": "stream",
     "text": [
      "Epoch 5: 100%|██████████| 27/27 [00:16<00:00,  1.69it/s, v_num=0, val_loss=0.861, val_acc=0.583, train_loss=0.842]"
     ]
    },
    {
     "name": "stderr",
     "output_type": "stream",
     "text": [
      "Metric val_loss improved by 0.065 >= min_delta = 0.001. New best score: 0.861\n"
     ]
    },
    {
     "name": "stdout",
     "output_type": "stream",
     "text": [
      "Epoch 6: 100%|██████████| 27/27 [00:15<00:00,  1.75it/s, v_num=0, val_loss=0.836, val_acc=0.614, train_loss=0.770]"
     ]
    },
    {
     "name": "stderr",
     "output_type": "stream",
     "text": [
      "Metric val_loss improved by 0.026 >= min_delta = 0.001. New best score: 0.836\n"
     ]
    },
    {
     "name": "stdout",
     "output_type": "stream",
     "text": [
      "Epoch 7: 100%|██████████| 27/27 [00:15<00:00,  1.77it/s, v_num=0, val_loss=0.829, val_acc=0.610, train_loss=0.764]"
     ]
    },
    {
     "name": "stderr",
     "output_type": "stream",
     "text": [
      "Metric val_loss improved by 0.006 >= min_delta = 0.001. New best score: 0.829\n"
     ]
    },
    {
     "name": "stdout",
     "output_type": "stream",
     "text": [
      "Epoch 8: 100%|██████████| 27/27 [00:16<00:00,  1.66it/s, v_num=0, val_loss=0.823, val_acc=0.614, train_loss=0.745]"
     ]
    },
    {
     "name": "stderr",
     "output_type": "stream",
     "text": [
      "Metric val_loss improved by 0.006 >= min_delta = 0.001. New best score: 0.823\n"
     ]
    },
    {
     "name": "stdout",
     "output_type": "stream",
     "text": [
      "Epoch 9: 100%|██████████| 27/27 [00:16<00:00,  1.67it/s, v_num=0, val_loss=0.789, val_acc=0.649, train_loss=0.716]"
     ]
    },
    {
     "name": "stderr",
     "output_type": "stream",
     "text": [
      "Metric val_loss improved by 0.034 >= min_delta = 0.001. New best score: 0.789\n"
     ]
    },
    {
     "name": "stdout",
     "output_type": "stream",
     "text": [
      "Epoch 13: 100%|██████████| 27/27 [00:15<00:00,  1.76it/s, v_num=0, val_loss=0.767, val_acc=0.652, train_loss=0.674]"
     ]
    },
    {
     "name": "stderr",
     "output_type": "stream",
     "text": [
      "Metric val_loss improved by 0.022 >= min_delta = 0.001. New best score: 0.767\n"
     ]
    },
    {
     "name": "stdout",
     "output_type": "stream",
     "text": [
      "Epoch 16: 100%|██████████| 27/27 [00:15<00:00,  1.74it/s, v_num=0, val_loss=0.754, val_acc=0.674, train_loss=0.628]"
     ]
    },
    {
     "name": "stderr",
     "output_type": "stream",
     "text": [
      "Metric val_loss improved by 0.014 >= min_delta = 0.001. New best score: 0.754\n"
     ]
    },
    {
     "name": "stdout",
     "output_type": "stream",
     "text": [
      "Epoch 18: 100%|██████████| 27/27 [00:15<00:00,  1.69it/s, v_num=0, val_loss=0.722, val_acc=0.691, train_loss=0.626]"
     ]
    },
    {
     "name": "stderr",
     "output_type": "stream",
     "text": [
      "Metric val_loss improved by 0.032 >= min_delta = 0.001. New best score: 0.722\n"
     ]
    },
    {
     "name": "stdout",
     "output_type": "stream",
     "text": [
      "Epoch 20: 100%|██████████| 27/27 [00:16<00:00,  1.67it/s, v_num=0, val_loss=0.713, val_acc=0.709, train_loss=0.628]"
     ]
    },
    {
     "name": "stderr",
     "output_type": "stream",
     "text": [
      "Metric val_loss improved by 0.009 >= min_delta = 0.001. New best score: 0.713\n"
     ]
    },
    {
     "name": "stdout",
     "output_type": "stream",
     "text": [
      "Epoch 25: 100%|██████████| 27/27 [00:15<00:00,  1.70it/s, v_num=0, val_loss=0.725, val_acc=0.705, train_loss=0.575]"
     ]
    },
    {
     "name": "stderr",
     "output_type": "stream",
     "text": [
      "Monitored metric val_loss did not improve in the last 5 records. Best score: 0.713. Signaling Trainer to stop.\n"
     ]
    },
    {
     "name": "stdout",
     "output_type": "stream",
     "text": [
      "Epoch 25: 100%|██████████| 27/27 [00:16<00:00,  1.68it/s, v_num=0, val_loss=0.725, val_acc=0.705, train_loss=0.575]\n",
      "Entrenando convnext_tiny con lr=1e-05\n"
     ]
    },
    {
     "name": "stderr",
     "output_type": "stream",
     "text": [
      "💡 Tip: For seamless cloud uploads and versioning, try installing [litmodels](https://pypi.org/project/litmodels/) to enable LitModelCheckpoint, which syncs automatically with the Lightning model registry.\n",
      "GPU available: True (cuda), used: True\n",
      "TPU available: False, using: 0 TPU cores\n",
      "HPU available: False, using: 0 HPUs\n",
      "LOCAL_RANK: 0 - CUDA_VISIBLE_DEVICES: [0]\n",
      "\n",
      "  | Name    | Type             | Params | Mode \n",
      "-----------------------------------------------------\n",
      "0 | model   | Sequential       | 28.0 M | train\n",
      "1 | loss_fn | CrossEntropyLoss | 0      | train\n",
      "-----------------------------------------------------\n",
      "14.5 M    Trainable params\n",
      "13.5 M    Non-trainable params\n",
      "28.0 M    Total params\n",
      "112.065   Total estimated model params size (MB)\n",
      "8         Modules in train mode\n",
      "200       Modules in eval mode\n"
     ]
    },
    {
     "name": "stdout",
     "output_type": "stream",
     "text": [
      "Epoch 0: 100%|██████████| 27/27 [00:36<00:00,  0.75it/s, v_num=0, val_loss=1.090, val_acc=0.399]"
     ]
    },
    {
     "name": "stderr",
     "output_type": "stream",
     "text": [
      "Metric val_loss improved. New best score: 1.090\n"
     ]
    },
    {
     "name": "stdout",
     "output_type": "stream",
     "text": [
      "Epoch 1: 100%|██████████| 27/27 [00:34<00:00,  0.79it/s, v_num=0, val_loss=1.080, val_acc=0.455, train_loss=1.100]"
     ]
    },
    {
     "name": "stderr",
     "output_type": "stream",
     "text": [
      "Metric val_loss improved by 0.008 >= min_delta = 0.001. New best score: 1.082\n"
     ]
    },
    {
     "name": "stdout",
     "output_type": "stream",
     "text": [
      "Epoch 2: 100%|██████████| 27/27 [00:34<00:00,  0.78it/s, v_num=0, val_loss=1.070, val_acc=0.503, train_loss=1.080]"
     ]
    },
    {
     "name": "stderr",
     "output_type": "stream",
     "text": [
      "Metric val_loss improved by 0.012 >= min_delta = 0.001. New best score: 1.070\n"
     ]
    },
    {
     "name": "stdout",
     "output_type": "stream",
     "text": [
      "Epoch 3: 100%|██████████| 27/27 [00:34<00:00,  0.79it/s, v_num=0, val_loss=1.050, val_acc=0.533, train_loss=1.070]"
     ]
    },
    {
     "name": "stderr",
     "output_type": "stream",
     "text": [
      "Metric val_loss improved by 0.022 >= min_delta = 0.001. New best score: 1.049\n"
     ]
    },
    {
     "name": "stdout",
     "output_type": "stream",
     "text": [
      "Epoch 4: 100%|██████████| 27/27 [00:34<00:00,  0.78it/s, v_num=0, val_loss=1.000, val_acc=0.535, train_loss=1.040]"
     ]
    },
    {
     "name": "stderr",
     "output_type": "stream",
     "text": [
      "Metric val_loss improved by 0.047 >= min_delta = 0.001. New best score: 1.002\n"
     ]
    },
    {
     "name": "stdout",
     "output_type": "stream",
     "text": [
      "Epoch 5: 100%|██████████| 27/27 [00:34<00:00,  0.78it/s, v_num=0, val_loss=0.943, val_acc=0.551, train_loss=0.996]"
     ]
    },
    {
     "name": "stderr",
     "output_type": "stream",
     "text": [
      "Metric val_loss improved by 0.059 >= min_delta = 0.001. New best score: 0.943\n"
     ]
    },
    {
     "name": "stdout",
     "output_type": "stream",
     "text": [
      "Epoch 6: 100%|██████████| 27/27 [00:34<00:00,  0.79it/s, v_num=0, val_loss=0.895, val_acc=0.580, train_loss=0.915]"
     ]
    },
    {
     "name": "stderr",
     "output_type": "stream",
     "text": [
      "Metric val_loss improved by 0.048 >= min_delta = 0.001. New best score: 0.895\n"
     ]
    },
    {
     "name": "stdout",
     "output_type": "stream",
     "text": [
      "Epoch 7: 100%|██████████| 27/27 [00:34<00:00,  0.78it/s, v_num=0, val_loss=0.851, val_acc=0.599, train_loss=0.828]"
     ]
    },
    {
     "name": "stderr",
     "output_type": "stream",
     "text": [
      "Metric val_loss improved by 0.044 >= min_delta = 0.001. New best score: 0.851\n"
     ]
    },
    {
     "name": "stdout",
     "output_type": "stream",
     "text": [
      "Epoch 8: 100%|██████████| 27/27 [00:34<00:00,  0.79it/s, v_num=0, val_loss=0.820, val_acc=0.608, train_loss=0.770]"
     ]
    },
    {
     "name": "stderr",
     "output_type": "stream",
     "text": [
      "Metric val_loss improved by 0.031 >= min_delta = 0.001. New best score: 0.820\n"
     ]
    },
    {
     "name": "stdout",
     "output_type": "stream",
     "text": [
      "Epoch 9: 100%|██████████| 27/27 [00:34<00:00,  0.78it/s, v_num=0, val_loss=0.788, val_acc=0.630, train_loss=0.771]"
     ]
    },
    {
     "name": "stderr",
     "output_type": "stream",
     "text": [
      "Metric val_loss improved by 0.032 >= min_delta = 0.001. New best score: 0.788\n"
     ]
    },
    {
     "name": "stdout",
     "output_type": "stream",
     "text": [
      "Epoch 10: 100%|██████████| 27/27 [00:33<00:00,  0.79it/s, v_num=0, val_loss=0.759, val_acc=0.664, train_loss=0.701]"
     ]
    },
    {
     "name": "stderr",
     "output_type": "stream",
     "text": [
      "Metric val_loss improved by 0.029 >= min_delta = 0.001. New best score: 0.759\n"
     ]
    },
    {
     "name": "stdout",
     "output_type": "stream",
     "text": [
      "Epoch 11: 100%|██████████| 27/27 [00:34<00:00,  0.79it/s, v_num=0, val_loss=0.728, val_acc=0.701, train_loss=0.732]"
     ]
    },
    {
     "name": "stderr",
     "output_type": "stream",
     "text": [
      "Metric val_loss improved by 0.031 >= min_delta = 0.001. New best score: 0.728\n"
     ]
    },
    {
     "name": "stdout",
     "output_type": "stream",
     "text": [
      "Epoch 13: 100%|██████████| 27/27 [04:03<00:00,  0.11it/s, v_num=0, val_loss=0.705, val_acc=0.706, train_loss=0.670]"
     ]
    },
    {
     "name": "stderr",
     "output_type": "stream",
     "text": [
      "Metric val_loss improved by 0.023 >= min_delta = 0.001. New best score: 0.705\n"
     ]
    },
    {
     "name": "stdout",
     "output_type": "stream",
     "text": [
      "Epoch 14: 100%|██████████| 27/27 [00:26<00:00,  1.04it/s, v_num=0, val_loss=0.702, val_acc=0.720, train_loss=0.670]"
     ]
    },
    {
     "name": "stderr",
     "output_type": "stream",
     "text": [
      "Metric val_loss improved by 0.003 >= min_delta = 0.001. New best score: 0.702\n"
     ]
    },
    {
     "name": "stdout",
     "output_type": "stream",
     "text": [
      "Epoch 18: 100%|██████████| 27/27 [00:23<00:00,  1.13it/s, v_num=0, val_loss=0.695, val_acc=0.728, train_loss=0.620]"
     ]
    },
    {
     "name": "stderr",
     "output_type": "stream",
     "text": [
      "Metric val_loss improved by 0.006 >= min_delta = 0.001. New best score: 0.695\n"
     ]
    },
    {
     "name": "stdout",
     "output_type": "stream",
     "text": [
      "Epoch 19: 100%|██████████| 27/27 [00:23<00:00,  1.14it/s, v_num=0, val_loss=0.691, val_acc=0.731, train_loss=0.640]"
     ]
    },
    {
     "name": "stderr",
     "output_type": "stream",
     "text": [
      "Metric val_loss improved by 0.004 >= min_delta = 0.001. New best score: 0.691\n"
     ]
    },
    {
     "name": "stdout",
     "output_type": "stream",
     "text": [
      "Epoch 21: 100%|██████████| 27/27 [00:23<00:00,  1.13it/s, v_num=0, val_loss=0.673, val_acc=0.739, train_loss=0.606]"
     ]
    },
    {
     "name": "stderr",
     "output_type": "stream",
     "text": [
      "Metric val_loss improved by 0.019 >= min_delta = 0.001. New best score: 0.673\n"
     ]
    },
    {
     "name": "stdout",
     "output_type": "stream",
     "text": [
      "Epoch 23: 100%|██████████| 27/27 [00:24<00:00,  1.09it/s, v_num=0, val_loss=0.660, val_acc=0.747, train_loss=0.604]"
     ]
    },
    {
     "name": "stderr",
     "output_type": "stream",
     "text": [
      "Metric val_loss improved by 0.013 >= min_delta = 0.001. New best score: 0.660\n"
     ]
    },
    {
     "name": "stdout",
     "output_type": "stream",
     "text": [
      "Epoch 28: 100%|██████████| 27/27 [00:24<00:00,  1.08it/s, v_num=0, val_loss=0.710, val_acc=0.733, train_loss=0.519]"
     ]
    },
    {
     "name": "stderr",
     "output_type": "stream",
     "text": [
      "Monitored metric val_loss did not improve in the last 5 records. Best score: 0.660. Signaling Trainer to stop.\n"
     ]
    },
    {
     "name": "stdout",
     "output_type": "stream",
     "text": [
      "Epoch 28: 100%|██████████| 27/27 [00:25<00:00,  1.05it/s, v_num=0, val_loss=0.710, val_acc=0.733, train_loss=0.519]\n"
     ]
    }
   ],
   "source": [
    "# Descomentar para ejecutar el entrenamiento\n",
    "results, history = train_and_test_models(train_loader, val_loader, test_loader)"
   ]
  },
  {
   "cell_type": "code",
   "execution_count": 9,
   "id": "602aaf80",
   "metadata": {},
   "outputs": [],
   "source": [
    "# Guardar resultados y métricas\n",
    "import pickle\n",
    "\n",
    "torch.save(results, \"results.pt\")\n",
    "torch.save(history, \"history.pt\")\n",
    "results = torch.load(\"results.pt\")\n",
    "history = torch.load(\"history.pt\")"
   ]
  },
  {
   "cell_type": "markdown",
   "id": "8b6e29b0",
   "metadata": {},
   "source": [
    "A continuación se muestran la pérdida (**loss**) tanto en entrenamiento como en validación, y la precisión (**accuracy**), todas en función de las épocas. Con esto se puede inferir si los modelos generalizan bien y si existe sobreajuste."
   ]
  },
  {
   "cell_type": "code",
   "execution_count": 11,
   "id": "8ec7c54d",
   "metadata": {},
   "outputs": [
    {
     "data": {
      "image/png": "[encoded data removed]",
      "text/plain": [
       "<Figure size 1500x1200 with 9 Axes>"
      ]
     },
     "metadata": {},
     "output_type": "display_data"
    }
   ],
   "source": [
    "import pandas as pd\n",
    "import matplotlib.pyplot as plt\n",
    "import os\n",
    "\n",
    "def load_history_from_logs(log_root=\"lightning_logs\"):\n",
    "    history = {}\n",
    "    for folder in os.listdir(log_root):\n",
    "        folder_path = os.path.join(log_root, folder)\n",
    "        if not os.path.isdir(folder_path):\n",
    "            continue\n",
    "        version_path = os.path.join(folder_path, \"version_0\", \"metrics.csv\")\n",
    "        if os.path.exists(version_path):\n",
    "            df = pd.read_csv(version_path)\n",
    "            history[folder] = df\n",
    "    return history\n",
    "\n",
    "history = load_history_from_logs()\n",
    "\n",
    "lrs = sorted({float(k.split(\"_lr\")[1]) for k in history.keys()})\n",
    "modelos = sorted({k.split(\"_lr\")[0] for k in history.keys()})\n",
    "\n",
    "fig, axes = plt.subplots(3, len(lrs), figsize=(5*len(lrs), 12), sharex=False)\n",
    "\n",
    "for col, lr in enumerate(lrs):\n",
    "    for modelo in modelos:\n",
    "        if \"feature\" in modelo:\n",
    "            continue\n",
    "\n",
    "        key = f\"{modelo}_lr{lr}\"\n",
    "        if key not in history:\n",
    "            continue\n",
    "\n",
    "        df = history[key]\n",
    "\n",
    "        train_loss_df = df[df['train_loss'].notna()]\n",
    "        val_df = df[df['val_loss'].notna() & df['val_acc'].notna()]\n",
    "\n",
    "        if not train_loss_df.empty:\n",
    "            epochs_train = train_loss_df['epoch'] + 1\n",
    "            train_loss = train_loss_df['train_loss']\n",
    "            axes[0, col].plot(epochs_train, train_loss, linestyle='-', label=f\"{modelo}\")\n",
    "\n",
    "        if not val_df.empty:\n",
    "            epochs_val = val_df['epoch'] + 1\n",
    "            val_loss = val_df['val_loss']\n",
    "            val_acc = val_df['val_acc']\n",
    "            axes[1, col].plot(epochs_val, val_loss, linestyle='-', label=f\"{modelo}\")\n",
    "            axes[2, col].plot(epochs_val, val_acc, linestyle='-', label=f\"{modelo}\")\n",
    "\n",
    "    axes[0, col].set_title(f\"LR = {lr}\")\n",
    "    axes[0, col].set_ylabel(\"Train Loss\")\n",
    "    axes[1, col].set_ylabel(\"Validation Loss\")\n",
    "    axes[2, col].set_ylabel(\"Validation Accuracy\")\n",
    "    axes[2, col].set_xlabel(\"Epochs\")\n",
    "\n",
    "for row in range(3):\n",
    "    axes[row, 0].legend(loc='best')\n",
    "\n",
    "plt.tight_layout()\n",
    "plt.show()"
   ]
  },
  {
   "cell_type": "markdown",
   "id": "964736bc",
   "metadata": {},
   "source": [
    "## Comparación de modelos con matrices de confusión\n",
    "\n",
    "A continuación se muestran las matrices de **confusión** para los cuatro modelos, tanto en forma **nominal** como **normalizada**. Se considera el mayor **learning rate** utilizado, ya que es el que ofrece mejores resultados en términos generales, tal como se mostrará al comparar **recall**, **F1** y un **puntaje personalizado**."
   ]
  },
  {
   "cell_type": "code",
   "execution_count": 12,
   "id": "18a064ac",
   "metadata": {},
   "outputs": [
    {
     "data": {
      "image/png": "[encoded data removed]",
      "text/plain": [
       "<Figure size 2000x800 with 16 Axes>"
      ]
     },
     "metadata": {},
     "output_type": "display_data"
    }
   ],
   "source": [
    "import seaborn as sns\n",
    "from sklearn.metrics import confusion_matrix\n",
    "import numpy as np\n",
    "\n",
    "lr_target = 1e-4\n",
    "model_names = sorted({k.split(\"_lr\")[0] for k in results.keys()})\n",
    "\n",
    "fig, axes = plt.subplots(2, len(model_names), figsize=(5 * len(model_names), 8))\n",
    "\n",
    "for i, modelo in enumerate(model_names):\n",
    "    key = f\"{modelo}_lr{lr_target}\"\n",
    "    if key not in results:\n",
    "        print(f\"No hay resultados para {key}\")\n",
    "        continue\n",
    "\n",
    "    y_true = results[key][\"labels\"].numpy()\n",
    "    y_pred = results[key][\"preds\"].numpy()\n",
    "\n",
    "    # Matriz real\n",
    "    cm = confusion_matrix(y_true, y_pred)\n",
    "    sns.heatmap(cm, annot=True, fmt=\"d\", cmap=\"Blues\", ax=axes[0, i],\n",
    "                xticklabels=['Normal', 'Osteopenia', 'Osteoporosis'],\n",
    "                yticklabels=['Normal', 'Osteopenia', 'Osteoporosis'])\n",
    "    axes[0, i].set_title(f\"{modelo} lr={lr_target}\\nMatriz real\")\n",
    "    axes[0, i].set_xlabel(\"Predicted\")\n",
    "    axes[0, i].set_ylabel(\"True\")\n",
    "\n",
    "    # Matriz normalizada por fila\n",
    "    cm_norm = cm.astype('float') / cm.sum(axis=1)[:, np.newaxis]\n",
    "    sns.heatmap(cm_norm, annot=True, fmt=\".2f\", cmap=\"Blues\", ax=axes[1, i],\n",
    "                xticklabels=['Normal', 'Osteopenia', 'Osteoporosis'],\n",
    "                yticklabels=['Normal', 'Osteopenia', 'Osteoporosis'])\n",
    "    axes[1, i].set_title(f\"{modelo} lr={lr_target}\\nMatriz normalizada\")\n",
    "    axes[1, i].set_xlabel(\"Predicted\")\n",
    "    axes[1, i].set_ylabel(\"True\")\n",
    "\n",
    "plt.tight_layout()\n",
    "plt.show()\n"
   ]
  },
  {
   "cell_type": "markdown",
   "id": "404066ad",
   "metadata": {},
   "source": [
    "## Métricas adicionales\n",
    "\n",
    "- **Recall enfermo vs sano:** mide qué tan bien el modelo detecta a los pacientes enfermos (osteopenia u osteoporosis) sin confundirlos con sanos. No distingue entre tipos de enfermedad, solo sano vs enfermo.\n",
    "\n",
    "- **F1 entre enfermedades:** evalúa el equilibrio entre precisión y recall al clasificar las distintas enfermedades, solo considerando pacientes enfermos. Esta métrica distingue entre osteopenia y osteoporosis.\n",
    "\n",
    "- **Puntaje diagnóstico:** combinación ponderada del recall general y el F1 específico para enfermedades, para evaluar globalmente el desempeño clínico.\n"
   ]
  },
  {
   "cell_type": "code",
   "execution_count": 13,
   "id": "4393f54f",
   "metadata": {},
   "outputs": [],
   "source": [
    "from sklearn.metrics import recall_score, f1_score\n",
    "\n",
    "# Defino las métricas\n",
    "\n",
    "def compute_enfermo_vs_sano_recall(y_true, y_pred):\n",
    "    # Convertir a binario: 0 = Normal, 1 = Enfermo (Osteopenia u Osteoporosis)\n",
    "    y_true_bin = [0 if x == 0 else 1 for x in y_true]\n",
    "    y_pred_bin = [0 if x == 0 else 1 for x in y_pred]\n",
    "    return recall_score(y_true_bin, y_pred_bin)\n",
    "\n",
    "def compute_enfermedades_f1(y_true, y_pred):\n",
    "    # Filtro solo los casos enfermos\n",
    "    y_true_sub = [x for x in y_true if x != 0]\n",
    "    y_pred_sub = [p for x, p in zip(y_true, y_pred) if x != 0]\n",
    "    return f1_score(y_true_sub, y_pred_sub, average='macro') \n",
    "\n",
    "def diagnostic_score(y_true, y_pred, alpha=0.7, beta=0.3):\n",
    "    recall = compute_enfermo_vs_sano_recall(y_true, y_pred)\n",
    "    f1_enf = compute_enfermedades_f1(y_true, y_pred)\n",
    "    # Combino recall y f1 con pesos alpha y beta\n",
    "    return alpha * recall + beta * f1_enf"
   ]
  },
  {
   "cell_type": "code",
   "execution_count": 14,
   "id": "14421d05",
   "metadata": {},
   "outputs": [
    {
     "data": {
      "image/png": "[encoded data removed]",
      "text/plain": [
       "<Figure size 1500x500 with 3 Axes>"
      ]
     },
     "metadata": {},
     "output_type": "display_data"
    }
   ],
   "source": [
    "import pandas as pd\n",
    "\n",
    "# Guardar métricas en lista\n",
    "data = []\n",
    "for key, vals in results.items():\n",
    "    model_name, lr_str = key.split(\"_lr\")\n",
    "    lr = float(lr_str)\n",
    "    \n",
    "    y_true = vals[\"labels\"].numpy()\n",
    "    y_pred = vals[\"preds\"].numpy()\n",
    "    \n",
    "    recall = compute_enfermo_vs_sano_recall(y_true, y_pred)\n",
    "    f1 = compute_enfermedades_f1(y_true, y_pred)\n",
    "    score = diagnostic_score(y_true, y_pred)\n",
    "    \n",
    "    data.append({\n",
    "        \"modelo\": model_name,\n",
    "        \"lr\": lr,\n",
    "        \"recall\": recall,\n",
    "        \"f1\": f1,\n",
    "        \"score\": score\n",
    "    })\n",
    "\n",
    "df = pd.DataFrame(data)\n",
    "df = df.sort_values(by=[\"lr\", \"modelo\"])\n",
    "\n",
    "fig, axes = plt.subplots(1, 3, figsize=(15, 5), sharey=False)\n",
    "\n",
    "metricas = [\"recall\", \"f1\", \"score\"]\n",
    "titulos = [\"Recall enfermo vs sano\", \"F1 entre enfermedades\", \"Puntaje diagnóstico\"]\n",
    "\n",
    "for ax, metrica, titulo in zip(axes, metricas, titulos):\n",
    "    for modelo, subdf in df.groupby(\"modelo\"):\n",
    "        ax.plot(subdf[\"lr\"], subdf[metrica], marker=\"o\", label=modelo)\n",
    "    ax.set_title(titulo)\n",
    "    ax.set_xlabel(\"Learning Rate\")\n",
    "    ax.set_ylabel(metrica)\n",
    "    ax.set_xscale(\"log\")  \n",
    "    ax.legend()\n",
    "\n",
    "plt.tight_layout()\n",
    "plt.show()\n"
   ]
  },
  {
   "cell_type": "markdown",
   "id": "4db930c9",
   "metadata": {},
   "source": [
    "Basado en las tres métricas, el mejor modelo es el **ResNet18**. Este modelo es el más sensible al learning rate elegido, tal como se muestra en los gráficos. En particular, con un learning rate de 1e-4 se obtienen los mejores resultados, pero con el valor intermedio de 3e-5 se consiguen los peores resultados (salvo en el F1).\n",
    "\n",
    "También se observa que, en **EfficientNet_B0** y **MobileNet_V3_Large**, a medida que aumentamos el learning rate (para los tres valores utilizados), las métricas mejoran. En cambio, para el **ConvNeXt_Tiny** ocurre lo opuesto.\n",
    "\n",
    "Es importante notar que el modelo con más capas entrenadas (descongeladas) fue el **ResNet18**. Esto podría explicar, en términos generales, por qué obtiene mejores resultados. En particular, la cantidad de capas descongeladas es:\n",
    "\n",
    "- **ResNet18:** `layer3` (últimas 3 capas del backbone descongeladas + modelo secuencial).\n",
    "- **EfficientNet_B0:** `features.8` (última capa del backbone descongelada + modelo secuencial).\n",
    "- **MobileNet_V3_Large:** `features.8` (última capa del backbone descongelada + modelo secuencial).\n",
    "- **ConvNeXt_Tiny:** `features.7` (última capa del backbone descongelada + modelo secuencial).\n",
    "\n",
    "Sería conveniente entrenar los modelos descongelando más capas. Además, se podrían considerar otros modelos. Dado que se vio que el mayor learning rate es el que da mejores resultados en 3 de los 4 modelos, será el que se utilice para futuros entrenamientos."
   ]
  },
  {
   "cell_type": "markdown",
   "id": "43d8f471",
   "metadata": {},
   "source": [
    "## Nuevos modelos\n",
    "\n",
    "Pruebo ahora el **EfficientNet_B0** y el **MobilNet_V3_Large** con las dos últimas capas descongeladas. Además, considero el **EfficientNet_B3** con la última capa descongelada. Comparo estos tres modelos con el baseline, es decir, el **ResNet18** con las ultimas 3 capas descongeladas. \n",
    "Dado que el mejor resultado en las métricas utilizadas para comparar las predicciones fue con el **leraning rate** de 1e-4, es el único que utilizo en el siguiente análisis."
   ]
  },
  {
   "cell_type": "code",
   "execution_count": 16,
   "id": "12924d62",
   "metadata": {},
   "outputs": [],
   "source": [
    "def train_and_test_new_models(train_loader, val_loader, test_loader):\n",
    "    model_defs = [\n",
    "        (models.resnet18, models.ResNet18_Weights.DEFAULT, \"fc\"),\n",
    "        (models.resnet18, models.ResNet18_Weights.DEFAULT, \"layer3\"),\n",
    "        (models.efficientnet_b3, models.EfficientNet_B3_Weights.DEFAULT, \"features.7\"),\n",
    "        (models.mobilenet_v3_large, models.MobileNet_V3_Large_Weights.DEFAULT, \"features.6\"),\n",
    "        (models.efficientnet_b0, models.EfficientNet_B0_Weights.DEFAULT, \"features.7\"),\n",
    "        (models.efficientnet_b0, models.EfficientNet_B0_Weights.DEFAULT, \"features.6\"),\n",
    "    ]\n",
    "\n",
    "    learning_rates = [1e-4]\n",
    "\n",
    "    os.makedirs(\"checkpoints\", exist_ok=True)\n",
    "    results = {}\n",
    "    history = {}\n",
    "\n",
    "    for lr in learning_rates:\n",
    "        for fn, w, freeze_name in model_defs:\n",
    "            name = fn.__name__\n",
    "            print(f\"Entrenando {name} con lr={lr}\")\n",
    "            logger = CSVLogger(\"lightning_logs\", name=f\"{name}_lr{lr}\")\n",
    "            early_stop_callback = EarlyStopping(\n",
    "                monitor=\"val_loss\",\n",
    "                min_delta=0.001,\n",
    "                patience=5,\n",
    "                verbose=True,\n",
    "                mode=\"min\"\n",
    "            )\n",
    "                \n",
    "            model = LitClassifier(fn, w, freeze_name, num_classes=3, lr=lr)\n",
    "            trainer = Trainer(\n",
    "                max_epochs=40,\n",
    "                accelerator=\"gpu\" if torch.cuda.is_available() else \"cpu\",\n",
    "                logger=logger,\n",
    "                callbacks=[early_stop_callback]\n",
    "            )\n",
    "            trainer.fit(model, train_loader, val_loader)\n",
    "\n",
    "            checkpoint_path = f\"checkpoints/{name}_lr{lr}_final.ckpt\"\n",
    "            trainer.save_checkpoint(checkpoint_path)\n",
    "\n",
    "            metrics_df = logger.experiment.metrics\n",
    "            history[f\"{name}_lr{lr}\"] = metrics_df\n",
    "\n",
    "            model.eval()\n",
    "            all_preds, all_labels = [], []\n",
    "            for x, y in test_loader:\n",
    "                x = x.to(model.device)\n",
    "                with torch.no_grad():\n",
    "                    preds = model(x).argmax(1)\n",
    "                    all_preds.append(preds.cpu())\n",
    "                    all_labels.append(y)\n",
    "            results[f\"{name}_lr{lr}\"] = {\n",
    "                \"preds\": torch.cat(all_preds),\n",
    "                \"labels\": torch.cat(all_labels)\n",
    "            }\n",
    "\n",
    "    return results, history"
   ]
  },
  {
   "cell_type": "code",
   "execution_count": 17,
   "id": "317620a5",
   "metadata": {},
   "outputs": [
    {
     "name": "stderr",
     "output_type": "stream",
     "text": [
      "💡 Tip: For seamless cloud uploads and versioning, try installing [litmodels](https://pypi.org/project/litmodels/) to enable LitModelCheckpoint, which syncs automatically with the Lightning model registry.\n"
     ]
    },
    {
     "name": "stdout",
     "output_type": "stream",
     "text": [
      "Entrenando resnet18 con lr=0.0001\n"
     ]
    },
    {
     "name": "stderr",
     "output_type": "stream",
     "text": [
      "GPU available: True (cuda), used: True\n",
      "TPU available: False, using: 0 TPU cores\n",
      "HPU available: False, using: 0 HPUs\n",
      "LOCAL_RANK: 0 - CUDA_VISIBLE_DEVICES: [0]\n",
      "\n",
      "  | Name    | Type             | Params | Mode \n",
      "-----------------------------------------------------\n",
      "0 | model   | Sequential       | 11.3 M | train\n",
      "1 | loss_fn | CrossEntropyLoss | 0      | train\n",
      "-----------------------------------------------------\n",
      "132 K     Trainable params\n",
      "11.2 M    Non-trainable params\n",
      "11.3 M    Total params\n",
      "45.234    Total estimated model params size (MB)\n",
      "8         Modules in train mode\n",
      "68        Modules in eval mode\n"
     ]
    },
    {
     "name": "stdout",
     "output_type": "stream",
     "text": [
      "Epoch 0: 100%|██████████| 27/27 [00:25<00:00,  1.04it/s, v_num=0, val_loss=1.100, val_acc=0.379]"
     ]
    },
    {
     "name": "stderr",
     "output_type": "stream",
     "text": [
      "Metric val_loss improved. New best score: 1.096\n"
     ]
    },
    {
     "name": "stdout",
     "output_type": "stream",
     "text": [
      "Epoch 1: 100%|██████████| 27/27 [00:26<00:00,  1.03it/s, v_num=0, val_loss=1.080, val_acc=0.445, train_loss=1.080]"
     ]
    },
    {
     "name": "stderr",
     "output_type": "stream",
     "text": [
      "Metric val_loss improved by 0.020 >= min_delta = 0.001. New best score: 1.076\n"
     ]
    },
    {
     "name": "stdout",
     "output_type": "stream",
     "text": [
      "Epoch 2: 100%|██████████| 27/27 [00:26<00:00,  1.03it/s, v_num=0, val_loss=1.030, val_acc=0.416, train_loss=1.010]"
     ]
    },
    {
     "name": "stderr",
     "output_type": "stream",
     "text": [
      "Metric val_loss improved by 0.046 >= min_delta = 0.001. New best score: 1.030\n"
     ]
    },
    {
     "name": "stdout",
     "output_type": "stream",
     "text": [
      "Epoch 3: 100%|██████████| 27/27 [00:26<00:00,  1.02it/s, v_num=0, val_loss=1.020, val_acc=0.428, train_loss=0.981]"
     ]
    },
    {
     "name": "stderr",
     "output_type": "stream",
     "text": [
      "Metric val_loss improved by 0.012 >= min_delta = 0.001. New best score: 1.018\n"
     ]
    },
    {
     "name": "stdout",
     "output_type": "stream",
     "text": [
      "Epoch 4: 100%|██████████| 27/27 [00:26<00:00,  1.03it/s, v_num=0, val_loss=0.971, val_acc=0.532, train_loss=0.941]"
     ]
    },
    {
     "name": "stderr",
     "output_type": "stream",
     "text": [
      "Metric val_loss improved by 0.047 >= min_delta = 0.001. New best score: 0.971\n"
     ]
    },
    {
     "name": "stdout",
     "output_type": "stream",
     "text": [
      "Epoch 7: 100%|██████████| 27/27 [00:26<00:00,  1.02it/s, v_num=0, val_loss=0.951, val_acc=0.518, train_loss=0.858]"
     ]
    },
    {
     "name": "stderr",
     "output_type": "stream",
     "text": [
      "Metric val_loss improved by 0.020 >= min_delta = 0.001. New best score: 0.951\n"
     ]
    },
    {
     "name": "stdout",
     "output_type": "stream",
     "text": [
      "Epoch 8: 100%|██████████| 27/27 [00:26<00:00,  1.03it/s, v_num=0, val_loss=0.943, val_acc=0.506, train_loss=0.867]"
     ]
    },
    {
     "name": "stderr",
     "output_type": "stream",
     "text": [
      "Metric val_loss improved by 0.008 >= min_delta = 0.001. New best score: 0.943\n"
     ]
    },
    {
     "name": "stdout",
     "output_type": "stream",
     "text": [
      "Epoch 9: 100%|██████████| 27/27 [00:27<00:00,  0.97it/s, v_num=0, val_loss=0.936, val_acc=0.532, train_loss=0.841]"
     ]
    },
    {
     "name": "stderr",
     "output_type": "stream",
     "text": [
      "Metric val_loss improved by 0.006 >= min_delta = 0.001. New best score: 0.936\n"
     ]
    },
    {
     "name": "stdout",
     "output_type": "stream",
     "text": [
      "Epoch 10: 100%|██████████| 27/27 [00:27<00:00,  0.98it/s, v_num=0, val_loss=0.929, val_acc=0.484, train_loss=0.851]"
     ]
    },
    {
     "name": "stderr",
     "output_type": "stream",
     "text": [
      "Metric val_loss improved by 0.007 >= min_delta = 0.001. New best score: 0.929\n"
     ]
    },
    {
     "name": "stdout",
     "output_type": "stream",
     "text": [
      "Epoch 12: 100%|██████████| 27/27 [00:27<00:00,  0.98it/s, v_num=0, val_loss=0.903, val_acc=0.510, train_loss=0.828]"
     ]
    },
    {
     "name": "stderr",
     "output_type": "stream",
     "text": [
      "Metric val_loss improved by 0.026 >= min_delta = 0.001. New best score: 0.903\n"
     ]
    },
    {
     "name": "stdout",
     "output_type": "stream",
     "text": [
      "Epoch 13: 100%|██████████| 27/27 [00:27<00:00,  0.98it/s, v_num=0, val_loss=0.876, val_acc=0.558, train_loss=0.823]"
     ]
    },
    {
     "name": "stderr",
     "output_type": "stream",
     "text": [
      "Metric val_loss improved by 0.027 >= min_delta = 0.001. New best score: 0.876\n"
     ]
    },
    {
     "name": "stdout",
     "output_type": "stream",
     "text": [
      "Epoch 18: 100%|██████████| 27/27 [00:27<00:00,  0.98it/s, v_num=0, val_loss=0.907, val_acc=0.554, train_loss=0.818]"
     ]
    },
    {
     "name": "stderr",
     "output_type": "stream",
     "text": [
      "Monitored metric val_loss did not improve in the last 5 records. Best score: 0.876. Signaling Trainer to stop.\n"
     ]
    },
    {
     "name": "stdout",
     "output_type": "stream",
     "text": [
      "Epoch 18: 100%|██████████| 27/27 [00:27<00:00,  0.98it/s, v_num=0, val_loss=0.907, val_acc=0.554, train_loss=0.818]\n"
     ]
    },
    {
     "name": "stderr",
     "output_type": "stream",
     "text": [
      "💡 Tip: For seamless cloud uploads and versioning, try installing [litmodels](https://pypi.org/project/litmodels/) to enable LitModelCheckpoint, which syncs automatically with the Lightning model registry.\n",
      "GPU available: True (cuda), used: True\n"
     ]
    },
    {
     "name": "stdout",
     "output_type": "stream",
     "text": [
      "Entrenando resnet18 con lr=0.0001\n"
     ]
    },
    {
     "name": "stderr",
     "output_type": "stream",
     "text": [
      "TPU available: False, using: 0 TPU cores\n",
      "HPU available: False, using: 0 HPUs\n",
      "LOCAL_RANK: 0 - CUDA_VISIBLE_DEVICES: [0]\n",
      "\n",
      "  | Name    | Type             | Params | Mode \n",
      "-----------------------------------------------------\n",
      "0 | model   | Sequential       | 11.3 M | train\n",
      "1 | loss_fn | CrossEntropyLoss | 0      | train\n",
      "-----------------------------------------------------\n",
      "10.6 M    Trainable params\n",
      "683 K     Non-trainable params\n",
      "11.3 M    Total params\n",
      "45.234    Total estimated model params size (MB)\n",
      "8         Modules in train mode\n",
      "68        Modules in eval mode\n"
     ]
    },
    {
     "name": "stdout",
     "output_type": "stream",
     "text": [
      "Epoch 0: 100%|██████████| 27/27 [01:11<00:00,  0.38it/s, v_num=1, val_loss=0.792, val_acc=0.666]"
     ]
    },
    {
     "name": "stderr",
     "output_type": "stream",
     "text": [
      "Metric val_loss improved. New best score: 0.792\n"
     ]
    },
    {
     "name": "stdout",
     "output_type": "stream",
     "text": [
      "Epoch 2: 100%|██████████| 27/27 [01:15<00:00,  0.36it/s, v_num=1, val_loss=0.724, val_acc=0.661, train_loss=0.731]"
     ]
    },
    {
     "name": "stderr",
     "output_type": "stream",
     "text": [
      "Metric val_loss improved by 0.067 >= min_delta = 0.001. New best score: 0.724\n"
     ]
    },
    {
     "name": "stdout",
     "output_type": "stream",
     "text": [
      "Epoch 4: 100%|██████████| 27/27 [01:15<00:00,  0.36it/s, v_num=1, val_loss=0.620, val_acc=0.753, train_loss=0.623]"
     ]
    },
    {
     "name": "stderr",
     "output_type": "stream",
     "text": [
      "Metric val_loss improved by 0.105 >= min_delta = 0.001. New best score: 0.620\n"
     ]
    },
    {
     "name": "stdout",
     "output_type": "stream",
     "text": [
      "Epoch 9: 100%|██████████| 27/27 [01:15<00:00,  0.36it/s, v_num=1, val_loss=1.060, val_acc=0.733, train_loss=0.287]"
     ]
    },
    {
     "name": "stderr",
     "output_type": "stream",
     "text": [
      "Monitored metric val_loss did not improve in the last 5 records. Best score: 0.620. Signaling Trainer to stop.\n"
     ]
    },
    {
     "name": "stdout",
     "output_type": "stream",
     "text": [
      "Epoch 9: 100%|██████████| 27/27 [01:16<00:00,  0.35it/s, v_num=1, val_loss=1.060, val_acc=0.733, train_loss=0.287]\n",
      "Entrenando efficientnet_b3 con lr=0.0001\n"
     ]
    },
    {
     "name": "stderr",
     "output_type": "stream",
     "text": [
      "💡 Tip: For seamless cloud uploads and versioning, try installing [litmodels](https://pypi.org/project/litmodels/) to enable LitModelCheckpoint, which syncs automatically with the Lightning model registry.\n",
      "GPU available: True (cuda), used: True\n",
      "TPU available: False, using: 0 TPU cores\n",
      "HPU available: False, using: 0 HPUs\n",
      "LOCAL_RANK: 0 - CUDA_VISIBLE_DEVICES: [0]\n",
      "\n",
      "  | Name    | Type             | Params | Mode \n",
      "-----------------------------------------------------\n",
      "0 | model   | Sequential       | 11.1 M | train\n",
      "1 | loss_fn | CrossEntropyLoss | 0      | train\n",
      "-----------------------------------------------------\n",
      "4.3 M     Trainable params\n",
      "6.8 M     Non-trainable params\n",
      "11.1 M    Total params\n",
      "44.362    Total estimated model params size (MB)\n",
      "8         Modules in train mode\n",
      "531       Modules in eval mode\n"
     ]
    },
    {
     "name": "stdout",
     "output_type": "stream",
     "text": [
      "Epoch 0: 100%|██████████| 27/27 [01:16<00:00,  0.35it/s, v_num=0, val_loss=0.979, val_acc=0.471]"
     ]
    },
    {
     "name": "stderr",
     "output_type": "stream",
     "text": [
      "Metric val_loss improved. New best score: 0.979\n"
     ]
    },
    {
     "name": "stdout",
     "output_type": "stream",
     "text": [
      "Epoch 1: 100%|██████████| 27/27 [01:11<00:00,  0.38it/s, v_num=0, val_loss=0.812, val_acc=0.639, train_loss=0.956]"
     ]
    },
    {
     "name": "stderr",
     "output_type": "stream",
     "text": [
      "Metric val_loss improved by 0.167 >= min_delta = 0.001. New best score: 0.812\n"
     ]
    },
    {
     "name": "stdout",
     "output_type": "stream",
     "text": [
      "Epoch 2: 100%|██████████| 27/27 [01:11<00:00,  0.38it/s, v_num=0, val_loss=0.748, val_acc=0.716, train_loss=0.765]"
     ]
    },
    {
     "name": "stderr",
     "output_type": "stream",
     "text": [
      "Metric val_loss improved by 0.064 >= min_delta = 0.001. New best score: 0.748\n"
     ]
    },
    {
     "name": "stdout",
     "output_type": "stream",
     "text": [
      "Epoch 3: 100%|██████████| 27/27 [01:11<00:00,  0.38it/s, v_num=0, val_loss=0.741, val_acc=0.674, train_loss=0.664]"
     ]
    },
    {
     "name": "stderr",
     "output_type": "stream",
     "text": [
      "Metric val_loss improved by 0.007 >= min_delta = 0.001. New best score: 0.741\n"
     ]
    },
    {
     "name": "stdout",
     "output_type": "stream",
     "text": [
      "Epoch 4: 100%|██████████| 27/27 [01:13<00:00,  0.37it/s, v_num=0, val_loss=0.673, val_acc=0.727, train_loss=0.623]"
     ]
    },
    {
     "name": "stderr",
     "output_type": "stream",
     "text": [
      "Metric val_loss improved by 0.068 >= min_delta = 0.001. New best score: 0.673\n"
     ]
    },
    {
     "name": "stdout",
     "output_type": "stream",
     "text": [
      "Epoch 8: 100%|██████████| 27/27 [01:12<00:00,  0.37it/s, v_num=0, val_loss=0.644, val_acc=0.766, train_loss=0.417]"
     ]
    },
    {
     "name": "stderr",
     "output_type": "stream",
     "text": [
      "Metric val_loss improved by 0.029 >= min_delta = 0.001. New best score: 0.644\n"
     ]
    },
    {
     "name": "stdout",
     "output_type": "stream",
     "text": [
      "Epoch 10: 100%|██████████| 27/27 [01:11<00:00,  0.38it/s, v_num=0, val_loss=0.627, val_acc=0.763, train_loss=0.321]"
     ]
    },
    {
     "name": "stderr",
     "output_type": "stream",
     "text": [
      "Metric val_loss improved by 0.016 >= min_delta = 0.001. New best score: 0.627\n"
     ]
    },
    {
     "name": "stdout",
     "output_type": "stream",
     "text": [
      "Epoch 15: 100%|██████████| 27/27 [01:12<00:00,  0.37it/s, v_num=0, val_loss=0.796, val_acc=0.735, train_loss=0.135]"
     ]
    },
    {
     "name": "stderr",
     "output_type": "stream",
     "text": [
      "Monitored metric val_loss did not improve in the last 5 records. Best score: 0.627. Signaling Trainer to stop.\n"
     ]
    },
    {
     "name": "stdout",
     "output_type": "stream",
     "text": [
      "Epoch 15: 100%|██████████| 27/27 [01:12<00:00,  0.37it/s, v_num=0, val_loss=0.796, val_acc=0.735, train_loss=0.135]\n",
      "Entrenando mobilenet_v3_large con lr=0.0001\n"
     ]
    },
    {
     "name": "stderr",
     "output_type": "stream",
     "text": [
      "💡 Tip: For seamless cloud uploads and versioning, try installing [litmodels](https://pypi.org/project/litmodels/) to enable LitModelCheckpoint, which syncs automatically with the Lightning model registry.\n",
      "GPU available: True (cuda), used: True\n",
      "TPU available: False, using: 0 TPU cores\n",
      "HPU available: False, using: 0 HPUs\n",
      "LOCAL_RANK: 0 - CUDA_VISIBLE_DEVICES: [0]\n",
      "\n",
      "  | Name    | Type             | Params | Mode \n",
      "-----------------------------------------------------\n",
      "0 | model   | Sequential       | 3.2 M  | train\n",
      "1 | loss_fn | CrossEntropyLoss | 0      | train\n",
      "-----------------------------------------------------\n",
      "3.2 M     Trainable params\n",
      "40.1 K    Non-trainable params\n",
      "3.2 M     Total params\n",
      "12.875    Total estimated model params size (MB)\n",
      "8         Modules in train mode\n",
      "251       Modules in eval mode\n"
     ]
    },
    {
     "name": "stdout",
     "output_type": "stream",
     "text": [
      "Epoch 0: 100%|██████████| 27/27 [00:26<00:00,  1.02it/s, v_num=0, val_loss=0.793, val_acc=0.647]"
     ]
    },
    {
     "name": "stderr",
     "output_type": "stream",
     "text": [
      "Metric val_loss improved. New best score: 0.793\n"
     ]
    },
    {
     "name": "stdout",
     "output_type": "stream",
     "text": [
      "Epoch 1: 100%|██████████| 27/27 [00:26<00:00,  1.01it/s, v_num=0, val_loss=0.781, val_acc=0.663, train_loss=0.882]"
     ]
    },
    {
     "name": "stderr",
     "output_type": "stream",
     "text": [
      "Metric val_loss improved by 0.012 >= min_delta = 0.001. New best score: 0.781\n"
     ]
    },
    {
     "name": "stdout",
     "output_type": "stream",
     "text": [
      "Epoch 2: 100%|██████████| 27/27 [00:26<00:00,  1.03it/s, v_num=0, val_loss=0.700, val_acc=0.705, train_loss=0.716]"
     ]
    },
    {
     "name": "stderr",
     "output_type": "stream",
     "text": [
      "Metric val_loss improved by 0.081 >= min_delta = 0.001. New best score: 0.700\n"
     ]
    },
    {
     "name": "stdout",
     "output_type": "stream",
     "text": [
      "Epoch 4: 100%|██████████| 27/27 [00:26<00:00,  1.02it/s, v_num=0, val_loss=0.663, val_acc=0.748, train_loss=0.683]"
     ]
    },
    {
     "name": "stderr",
     "output_type": "stream",
     "text": [
      "Metric val_loss improved by 0.037 >= min_delta = 0.001. New best score: 0.663\n"
     ]
    },
    {
     "name": "stdout",
     "output_type": "stream",
     "text": [
      "Epoch 6: 100%|██████████| 27/27 [00:26<00:00,  1.03it/s, v_num=0, val_loss=0.576, val_acc=0.806, train_loss=0.610]"
     ]
    },
    {
     "name": "stderr",
     "output_type": "stream",
     "text": [
      "Metric val_loss improved by 0.087 >= min_delta = 0.001. New best score: 0.576\n"
     ]
    },
    {
     "name": "stdout",
     "output_type": "stream",
     "text": [
      "Epoch 11: 100%|██████████| 27/27 [00:26<00:00,  1.04it/s, v_num=0, val_loss=0.837, val_acc=0.733, train_loss=0.408]"
     ]
    },
    {
     "name": "stderr",
     "output_type": "stream",
     "text": [
      "Monitored metric val_loss did not improve in the last 5 records. Best score: 0.576. Signaling Trainer to stop.\n"
     ]
    },
    {
     "name": "stdout",
     "output_type": "stream",
     "text": [
      "Epoch 11: 100%|██████████| 27/27 [00:26<00:00,  1.03it/s, v_num=0, val_loss=0.837, val_acc=0.733, train_loss=0.408]\n"
     ]
    },
    {
     "name": "stderr",
     "output_type": "stream",
     "text": [
      "💡 Tip: For seamless cloud uploads and versioning, try installing [litmodels](https://pypi.org/project/litmodels/) to enable LitModelCheckpoint, which syncs automatically with the Lightning model registry.\n"
     ]
    },
    {
     "name": "stdout",
     "output_type": "stream",
     "text": [
      "Entrenando efficientnet_b0 con lr=0.0001\n"
     ]
    },
    {
     "name": "stderr",
     "output_type": "stream",
     "text": [
      "GPU available: True (cuda), used: True\n",
      "TPU available: False, using: 0 TPU cores\n",
      "HPU available: False, using: 0 HPUs\n",
      "LOCAL_RANK: 0 - CUDA_VISIBLE_DEVICES: [0]\n",
      "\n",
      "  | Name    | Type             | Params | Mode \n",
      "-----------------------------------------------------\n",
      "0 | model   | Sequential       | 4.3 M  | train\n",
      "1 | loss_fn | CrossEntropyLoss | 0      | train\n",
      "-----------------------------------------------------\n",
      "1.5 M     Trainable params\n",
      "2.9 M     Non-trainable params\n",
      "4.3 M     Total params\n",
      "17.345    Total estimated model params size (MB)\n",
      "8         Modules in train mode\n",
      "335       Modules in eval mode\n"
     ]
    },
    {
     "name": "stdout",
     "output_type": "stream",
     "text": [
      "Epoch 0: 100%|██████████| 27/27 [00:41<00:00,  0.64it/s, v_num=0, val_loss=0.974, val_acc=0.477]"
     ]
    },
    {
     "name": "stderr",
     "output_type": "stream",
     "text": [
      "Metric val_loss improved. New best score: 0.974\n"
     ]
    },
    {
     "name": "stdout",
     "output_type": "stream",
     "text": [
      "Epoch 1: 100%|██████████| 27/27 [00:42<00:00,  0.63it/s, v_num=0, val_loss=0.818, val_acc=0.632, train_loss=0.972]"
     ]
    },
    {
     "name": "stderr",
     "output_type": "stream",
     "text": [
      "Metric val_loss improved by 0.156 >= min_delta = 0.001. New best score: 0.818\n"
     ]
    },
    {
     "name": "stdout",
     "output_type": "stream",
     "text": [
      "Epoch 2: 100%|██████████| 27/27 [00:42<00:00,  0.64it/s, v_num=0, val_loss=0.802, val_acc=0.628, train_loss=0.779]"
     ]
    },
    {
     "name": "stderr",
     "output_type": "stream",
     "text": [
      "Metric val_loss improved by 0.016 >= min_delta = 0.001. New best score: 0.802\n"
     ]
    },
    {
     "name": "stdout",
     "output_type": "stream",
     "text": [
      "Epoch 3: 100%|██████████| 27/27 [00:42<00:00,  0.64it/s, v_num=0, val_loss=0.763, val_acc=0.660, train_loss=0.701]"
     ]
    },
    {
     "name": "stderr",
     "output_type": "stream",
     "text": [
      "Metric val_loss improved by 0.039 >= min_delta = 0.001. New best score: 0.763\n"
     ]
    },
    {
     "name": "stdout",
     "output_type": "stream",
     "text": [
      "Epoch 5: 100%|██████████| 27/27 [00:42<00:00,  0.63it/s, v_num=0, val_loss=0.745, val_acc=0.681, train_loss=0.647]"
     ]
    },
    {
     "name": "stderr",
     "output_type": "stream",
     "text": [
      "Metric val_loss improved by 0.019 >= min_delta = 0.001. New best score: 0.745\n"
     ]
    },
    {
     "name": "stdout",
     "output_type": "stream",
     "text": [
      "Epoch 7: 100%|██████████| 27/27 [00:39<00:00,  0.69it/s, v_num=0, val_loss=0.709, val_acc=0.712, train_loss=0.610]"
     ]
    },
    {
     "name": "stderr",
     "output_type": "stream",
     "text": [
      "Metric val_loss improved by 0.036 >= min_delta = 0.001. New best score: 0.709\n"
     ]
    },
    {
     "name": "stdout",
     "output_type": "stream",
     "text": [
      "Epoch 8: 100%|██████████| 27/27 [00:39<00:00,  0.69it/s, v_num=0, val_loss=0.701, val_acc=0.699, train_loss=0.593]"
     ]
    },
    {
     "name": "stderr",
     "output_type": "stream",
     "text": [
      "Metric val_loss improved by 0.008 >= min_delta = 0.001. New best score: 0.701\n"
     ]
    },
    {
     "name": "stdout",
     "output_type": "stream",
     "text": [
      "Epoch 9: 100%|██████████| 27/27 [00:39<00:00,  0.68it/s, v_num=0, val_loss=0.688, val_acc=0.693, train_loss=0.579]"
     ]
    },
    {
     "name": "stderr",
     "output_type": "stream",
     "text": [
      "Metric val_loss improved by 0.013 >= min_delta = 0.001. New best score: 0.688\n"
     ]
    },
    {
     "name": "stdout",
     "output_type": "stream",
     "text": [
      "Epoch 11: 100%|██████████| 27/27 [00:39<00:00,  0.68it/s, v_num=0, val_loss=0.681, val_acc=0.713, train_loss=0.555]"
     ]
    },
    {
     "name": "stderr",
     "output_type": "stream",
     "text": [
      "Metric val_loss improved by 0.006 >= min_delta = 0.001. New best score: 0.681\n"
     ]
    },
    {
     "name": "stdout",
     "output_type": "stream",
     "text": [
      "Epoch 12: 100%|██████████| 27/27 [00:39<00:00,  0.68it/s, v_num=0, val_loss=0.667, val_acc=0.712, train_loss=0.527]"
     ]
    },
    {
     "name": "stderr",
     "output_type": "stream",
     "text": [
      "Metric val_loss improved by 0.014 >= min_delta = 0.001. New best score: 0.667\n"
     ]
    },
    {
     "name": "stdout",
     "output_type": "stream",
     "text": [
      "Epoch 13: 100%|██████████| 27/27 [00:39<00:00,  0.68it/s, v_num=0, val_loss=0.637, val_acc=0.726, train_loss=0.530]"
     ]
    },
    {
     "name": "stderr",
     "output_type": "stream",
     "text": [
      "Metric val_loss improved by 0.030 >= min_delta = 0.001. New best score: 0.637\n"
     ]
    },
    {
     "name": "stdout",
     "output_type": "stream",
     "text": [
      "Epoch 14: 100%|██████████| 27/27 [00:39<00:00,  0.68it/s, v_num=0, val_loss=0.615, val_acc=0.772, train_loss=0.494]"
     ]
    },
    {
     "name": "stderr",
     "output_type": "stream",
     "text": [
      "Metric val_loss improved by 0.022 >= min_delta = 0.001. New best score: 0.615\n"
     ]
    },
    {
     "name": "stdout",
     "output_type": "stream",
     "text": [
      "Epoch 17: 100%|██████████| 27/27 [00:39<00:00,  0.68it/s, v_num=0, val_loss=0.581, val_acc=0.757, train_loss=0.451]"
     ]
    },
    {
     "name": "stderr",
     "output_type": "stream",
     "text": [
      "Metric val_loss improved by 0.035 >= min_delta = 0.001. New best score: 0.581\n"
     ]
    },
    {
     "name": "stdout",
     "output_type": "stream",
     "text": [
      "Epoch 19: 100%|██████████| 27/27 [00:39<00:00,  0.69it/s, v_num=0, val_loss=0.556, val_acc=0.780, train_loss=0.411]"
     ]
    },
    {
     "name": "stderr",
     "output_type": "stream",
     "text": [
      "Metric val_loss improved by 0.025 >= min_delta = 0.001. New best score: 0.556\n"
     ]
    },
    {
     "name": "stdout",
     "output_type": "stream",
     "text": [
      "Epoch 24: 100%|██████████| 27/27 [00:39<00:00,  0.69it/s, v_num=0, val_loss=0.619, val_acc=0.760, train_loss=0.335]"
     ]
    },
    {
     "name": "stderr",
     "output_type": "stream",
     "text": [
      "Monitored metric val_loss did not improve in the last 5 records. Best score: 0.556. Signaling Trainer to stop.\n"
     ]
    },
    {
     "name": "stdout",
     "output_type": "stream",
     "text": [
      "Epoch 24: 100%|██████████| 27/27 [00:39<00:00,  0.69it/s, v_num=0, val_loss=0.619, val_acc=0.760, train_loss=0.335]\n"
     ]
    },
    {
     "name": "stderr",
     "output_type": "stream",
     "text": [
      "💡 Tip: For seamless cloud uploads and versioning, try installing [litmodels](https://pypi.org/project/litmodels/) to enable LitModelCheckpoint, which syncs automatically with the Lightning model registry.\n",
      "GPU available: True (cuda), used: True\n"
     ]
    },
    {
     "name": "stdout",
     "output_type": "stream",
     "text": [
      "Entrenando efficientnet_b0 con lr=0.0001\n"
     ]
    },
    {
     "name": "stderr",
     "output_type": "stream",
     "text": [
      "TPU available: False, using: 0 TPU cores\n",
      "HPU available: False, using: 0 HPUs\n",
      "LOCAL_RANK: 0 - CUDA_VISIBLE_DEVICES: [0]\n",
      "\n",
      "  | Name    | Type             | Params | Mode \n",
      "-----------------------------------------------------\n",
      "0 | model   | Sequential       | 4.3 M  | train\n",
      "1 | loss_fn | CrossEntropyLoss | 0      | train\n",
      "-----------------------------------------------------\n",
      "3.5 M     Trainable params\n",
      "851 K     Non-trainable params\n",
      "4.3 M     Total params\n",
      "17.345    Total estimated model params size (MB)\n",
      "8         Modules in train mode\n",
      "335       Modules in eval mode\n"
     ]
    },
    {
     "name": "stdout",
     "output_type": "stream",
     "text": [
      "Epoch 0: 100%|██████████| 27/27 [00:17<00:00,  1.58it/s, v_num=1, val_loss=0.765, val_acc=0.671]"
     ]
    },
    {
     "name": "stderr",
     "output_type": "stream",
     "text": [
      "Metric val_loss improved. New best score: 0.765\n"
     ]
    },
    {
     "name": "stdout",
     "output_type": "stream",
     "text": [
      "Epoch 1: 100%|██████████| 27/27 [00:14<00:00,  1.80it/s, v_num=1, val_loss=0.707, val_acc=0.672, train_loss=0.883]"
     ]
    },
    {
     "name": "stderr",
     "output_type": "stream",
     "text": [
      "Metric val_loss improved by 0.058 >= min_delta = 0.001. New best score: 0.707\n"
     ]
    },
    {
     "name": "stdout",
     "output_type": "stream",
     "text": [
      "Epoch 2: 100%|██████████| 27/27 [00:15<00:00,  1.79it/s, v_num=1, val_loss=0.662, val_acc=0.708, train_loss=0.716]"
     ]
    },
    {
     "name": "stderr",
     "output_type": "stream",
     "text": [
      "Metric val_loss improved by 0.045 >= min_delta = 0.001. New best score: 0.662\n"
     ]
    },
    {
     "name": "stdout",
     "output_type": "stream",
     "text": [
      "Epoch 6: 100%|██████████| 27/27 [00:15<00:00,  1.78it/s, v_num=1, val_loss=0.579, val_acc=0.780, train_loss=0.549]"
     ]
    },
    {
     "name": "stderr",
     "output_type": "stream",
     "text": [
      "Metric val_loss improved by 0.083 >= min_delta = 0.001. New best score: 0.579\n"
     ]
    },
    {
     "name": "stdout",
     "output_type": "stream",
     "text": [
      "Epoch 11: 100%|██████████| 27/27 [00:15<00:00,  1.79it/s, v_num=1, val_loss=0.795, val_acc=0.794, train_loss=0.292]"
     ]
    },
    {
     "name": "stderr",
     "output_type": "stream",
     "text": [
      "Monitored metric val_loss did not improve in the last 5 records. Best score: 0.579. Signaling Trainer to stop.\n"
     ]
    },
    {
     "name": "stdout",
     "output_type": "stream",
     "text": [
      "Epoch 11: 100%|██████████| 27/27 [00:15<00:00,  1.77it/s, v_num=1, val_loss=0.795, val_acc=0.794, train_loss=0.292]\n"
     ]
    }
   ],
   "source": [
    "new_results, new_history = train_and_test_new_models(train_loader, val_loader, test_loader)\n",
    "\n",
    "torch.save(new_results, \"new_results.pt\")\n",
    "torch.save(new_history, \"new_history.pt\")"
   ]
  },
  {
   "cell_type": "code",
   "execution_count": null,
   "id": "58088d29",
   "metadata": {},
   "outputs": [],
   "source": [
    "new_results = torch.load(\"new_results.pt\")\n",
    "new_history = torch.load(\"new_history.pt\")"
   ]
  },
  {
   "cell_type": "code",
   "execution_count": null,
   "id": "7f7a844e",
   "metadata": {},
   "outputs": [],
   "source": [
    "model_folders = [\n",
    "    \"resnet18_lr0.0001\",\n",
    "    \"efficientnet_b0_uf_features-7_lr0.0001\",\n",
    "    \"efficientnet_b0_uf_features-6_lr0.0001\",\n",
    "    \"efficientnet_b3_uf_features-7_lr0.0001\",\n",
    "    \"mobilenet_v3_large_uf_features-6_lr0.0001\"\n",
    "]\n",
    "\n",
    "fig, axes = plt.subplots(1, 3, figsize=(18, 5)) \n",
    "\n",
    "history = load_history_from_logs()\n",
    "\n",
    "for model in model_folders:\n",
    "    if model not in history:\n",
    "        print(f\"No encontrado: {model}\")\n",
    "        continue\n",
    "    df = history[model]\n",
    "    epochs_train = df.dropna(subset=['train_loss'])['epoch'] + 1\n",
    "    train_loss = df.dropna(subset=['train_loss'])['train_loss']\n",
    "    val_df = df.dropna(subset=['val_loss', 'val_acc'])\n",
    "    epochs_val = val_df['epoch'] + 1\n",
    "    val_loss = val_df['val_loss']\n",
    "    val_acc = val_df['val_acc']\n",
    "    \n",
    "    axes[0].plot(epochs_train, train_loss, label=model)\n",
    "    axes[1].plot(epochs_val, val_loss, label=model)\n",
    "    axes[2].plot(epochs_val, val_acc, label=model)\n",
    "\n",
    "axes[0].set_title(\"Train Loss\")\n",
    "axes[0].set_xlabel(\"Epoch\")\n",
    "axes[0].set_ylabel(\"Train Loss\")\n",
    "\n",
    "axes[1].set_title(\"Validation Loss\")\n",
    "axes[1].set_xlabel(\"Epoch\")\n",
    "axes[1].set_ylabel(\"Validation Loss\")\n",
    "\n",
    "axes[2].set_title(\"Validation Accuracy\")\n",
    "axes[2].set_xlabel(\"Epoch\")\n",
    "axes[2].set_ylabel(\"Validation Accuracy\")\n",
    "\n",
    "for ax in axes:\n",
    "    ax.legend(loc='best')\n",
    "\n",
    "plt.tight_layout()\n",
    "plt.show()"
   ]
  },
  {
   "cell_type": "code",
   "execution_count": null,
   "id": "561a4077",
   "metadata": {},
   "outputs": [],
   "source": [
    "data = []\n",
    "\n",
    "all_results = {**results, **new_results}\n",
    "\n",
    "for key, vals in all_results.items():\n",
    "    lr = float(key.split(\"_lr\")[1])\n",
    "    y_true = vals[\"labels\"].numpy()\n",
    "    y_pred = vals[\"preds\"].numpy()\n",
    "    recall = compute_enfermo_vs_sano_recall(y_true, y_pred)\n",
    "    f1 = compute_enfermedades_f1(y_true, y_pred)\n",
    "    score = diagnostic_score(y_true, y_pred)\n",
    "    data.append({\"modelo\": key, \"lr\": lr, \"recall\": recall, \"f1\": f1, \"score\": score})\n",
    "\n",
    "df = pd.DataFrame(data)\n",
    "df_lr = df[df[\"lr\"] == 0.0001]\n",
    "\n",
    "metrics = [\"recall\", \"f1\", \"score\"]\n",
    "x = np.arange(len(metrics))\n",
    "\n",
    "fig, ax = plt.subplots(figsize=(7,4))\n",
    "\n",
    "for model in model_folders:\n",
    "    subdf = df_lr[df_lr[\"modelo\"].str.startswith(model.split(\"_lr\")[0])]\n",
    "    if subdf.empty:\n",
    "        continue\n",
    "    values = [subdf[metric].values[0] for metric in metrics]\n",
    "    ax.plot(x, values, marker='o', label=model)\n",
    "\n",
    "ax.set_xticks(x)\n",
    "ax.set_xticklabels(metrics)\n",
    "ax.set_ylabel(\"Metric Value\")\n",
    "ax.set_title(\"Metrics Comparison at LR=0.0001\")\n",
    "ax.legend(loc='best')\n",
    "\n",
    "plt.tight_layout()\n",
    "plt.show()"
   ]
  },
  {
   "cell_type": "markdown",
   "id": "0bb64880",
   "metadata": {},
   "source": [
    "No se observaron mejoras respecto al baseline al descongelar más capas ni al usar la versión **EfficientNet_B3**. Se evidenció sobreajuste durante los entrenamientos. Probablemente, sería conveniente implementar **early stopping** para mitigarlo."
   ]
  }
 ],
 "metadata": {
  "kernelspec": {
   "display_name": "base",
   "language": "python",
   "name": "python3"
  },
  "language_info": {
   "codemirror_mode": {
    "name": "ipython",
    "version": 3
   },
   "file_extension": ".py",
   "mimetype": "text/x-python",
   "name": "python",
   "nbconvert_exporter": "python",
   "pygments_lexer": "ipython3",
   "version": "3.12.3"
  }
 },
 "nbformat": 4,
 "nbformat_minor": 5
}
